{
 "cells": [
  {
   "cell_type": "code",
   "execution_count": 36,
   "metadata": {
    "collapsed": false
   },
   "outputs": [
    {
     "name": "stdout",
     "output_type": "stream",
     "text": [
      "Data root: /home/ubuntu/data/\n",
      "Options:\n",
      "  Testing directory: /home/ubuntu/data/statefarm/test/\n",
      "  Training directory: /home/ubuntu/data/statefarm/train/\n",
      "  Validation directory: /home/ubuntu/data/statefarm/valid/\n",
      "  Preprocess directory: /home/ubuntu/data/statefarm/preprocessed/\n",
      "  Results directory: /home/ubuntu/data/statefarm/results\n"
     ]
    }
   ],
   "source": [
    "%matplotlib inline\n",
    "from __future__ import print_function\n",
    "import os,sys\n",
    "notebook_code_root = os.path.dirname(os.getcwd())\n",
    "data_root = os.path.dirname(notebook_code_root) + '/data/'\n",
    "print(\"Data root: %s\" % data_root)\n",
    "sys.path.insert(0,notebook_code_root)\n",
    "\n",
    "import cutils\n",
    "from cutils import *\n",
    "\n",
    "from keras.layers.core import Reshape\n",
    "from keras.utils import to_categorical\n",
    "\n",
    "from vgg16 import *\n",
    "\n",
    "opts = NotebookData(data_dir=data_root, sample_mode=False, preprocess=False)\n",
    "print(opts)"
   ]
  },
  {
   "cell_type": "code",
   "execution_count": 37,
   "metadata": {
    "collapsed": false
   },
   "outputs": [],
   "source": [
    "# Load the VGG model.\n",
    "vgg = Vgg16()"
   ]
  },
  {
   "cell_type": "code",
   "execution_count": 38,
   "metadata": {
    "collapsed": false
   },
   "outputs": [],
   "source": [
    "ls = vgg.model.layers\n",
    "idx = 0\n",
    "for i in range(len(ls)):\n",
    "    if type(ls[i]) is MaxPooling2D:\n",
    "        idx = i\n",
    "\n",
    "conv_model = Sequential(layers=ls[:(idx+1)])\n",
    "fc_layers = ls[(idx+1):]"
   ]
  },
  {
   "cell_type": "code",
   "execution_count": 39,
   "metadata": {
    "collapsed": false
   },
   "outputs": [
    {
     "name": "stdout",
     "output_type": "stream",
     "text": [
      "Found 20181 images belonging to 10 classes.\n",
      "Found 2243 images belonging to 10 classes.\n"
     ]
    }
   ],
   "source": [
    "gen = image.ImageDataGenerator()\n",
    "img_trn_batches = gen.flow_from_directory(opts.train_dir(),\n",
    "                                          target_size=(224,224),\n",
    "                                          class_mode='categorical',\n",
    "                                          shuffle=False,\n",
    "                                          batch_size=64)\n",
    "img_val_batches = gen.flow_from_directory(opts.valid_dir(),\n",
    "                                          target_size=(224,224),\n",
    "                                          class_mode='categorical',\n",
    "                                          shuffle=False,\n",
    "                                          batch_size=64)\n",
    "img_trn_classes = to_categorical(img_trn_batches.classes)\n",
    "img_val_classes = to_categorical(img_val_batches.classes)"
   ]
  },
  {
   "cell_type": "code",
   "execution_count": 40,
   "metadata": {
    "collapsed": false
   },
   "outputs": [
    {
     "name": "stdout",
     "output_type": "stream",
     "text": [
      "316/316 [==============================] - 411s 1s/step\n",
      "36/36 [==============================] - 46s 1s/step\n"
     ]
    }
   ],
   "source": [
    "trn_features = conv_model.predict_generator(img_trn_batches, verbose=1)\n",
    "val_features = conv_model.predict_generator(img_val_batches, verbose=1)"
   ]
  },
  {
   "cell_type": "code",
   "execution_count": 41,
   "metadata": {
    "collapsed": false
   },
   "outputs": [],
   "source": [
    "trn_dir = os.path.join(opts.data_root, 'preprocessed', 'conv')\n",
    "if not os.path.exists(trn_dir):\n",
    "    os.makedirs(trn_dir)\n",
    "save_array(os.path.join(trn_dir, 'train-dt'), trn_features)\n",
    "save_array(os.path.join(trn_dir, 'val-dt'), val_features)\n",
    "save_array(os.path.join(trn_dir, 'train-cl'), img_trn_classes)\n",
    "save_array(os.path.join(trn_dir, 'val-cl'), img_val_classes)"
   ]
  },
  {
   "cell_type": "code",
   "execution_count": 42,
   "metadata": {
    "collapsed": false
   },
   "outputs": [],
   "source": [
    "zipped_trn = zip(trn_features, img_trn_classes)\n",
    "np.random.shuffle(zipped_trn)\n",
    "training_data = np.stack([data for data, cl in zipped_trn], axis=0)\n",
    "training_classes = np.stack([cl for data, cl in zipped_trn], axis=0)"
   ]
  },
  {
   "cell_type": "code",
   "execution_count": 43,
   "metadata": {
    "collapsed": false
   },
   "outputs": [],
   "source": [
    "# Create a new model with only dense layers. Because it is based on\n",
    "# Vgg16, create the same number of dense layers, but without dropout\n",
    "# (or more specifically, with zero dropout).\n",
    "fc_model = Sequential([\n",
    "     # Input shape is shape of the conv result.\n",
    "     Reshape((25088,), input_shape=(512, 7, 7,)),\n",
    "     Dense(4096, activation=\"relu\"),\n",
    "     Dense(4096, activation='relu'),\n",
    "     Dense(10, activation='softmax')\n",
    "    ])"
   ]
  },
  {
   "cell_type": "code",
   "execution_count": 44,
   "metadata": {
    "collapsed": true
   },
   "outputs": [],
   "source": [
    "fc_model.compile(optimizer=Adam(lr=0.000001),\n",
    "                 loss='categorical_crossentropy',\n",
    "                 metrics=['accuracy'])"
   ]
  },
  {
   "cell_type": "code",
   "execution_count": 45,
   "metadata": {
    "collapsed": false
   },
   "outputs": [
    {
     "name": "stdout",
     "output_type": "stream",
     "text": [
      "Train on 20181 samples, validate on 2243 samples\n",
      "Epoch 1/20\n",
      "20181/20181 [==============================] - 41s 2ms/step - loss: 2.2665 - acc: 0.6774 - val_loss: 0.4011 - val_acc: 0.9135\n",
      "Epoch 2/20\n",
      "20181/20181 [==============================] - 42s 2ms/step - loss: 0.1682 - acc: 0.9602 - val_loss: 0.2032 - val_acc: 0.9541\n",
      "Epoch 3/20\n",
      "20181/20181 [==============================] - 42s 2ms/step - loss: 0.0411 - acc: 0.9919 - val_loss: 0.1576 - val_acc: 0.9630\n",
      "Epoch 4/20\n",
      "20181/20181 [==============================] - 42s 2ms/step - loss: 0.0139 - acc: 0.9984 - val_loss: 0.1397 - val_acc: 0.9657\n",
      "Epoch 5/20\n",
      "20181/20181 [==============================] - 42s 2ms/step - loss: 0.0071 - acc: 0.9994 - val_loss: 0.1258 - val_acc: 0.9688\n",
      "Epoch 6/20\n",
      "20181/20181 [==============================] - 42s 2ms/step - loss: 0.0047 - acc: 0.9997 - val_loss: 0.1188 - val_acc: 0.9710\n",
      "Epoch 7/20\n",
      "20181/20181 [==============================] - 42s 2ms/step - loss: 0.0040 - acc: 0.9998 - val_loss: 0.1128 - val_acc: 0.9737\n",
      "Epoch 8/20\n",
      "20181/20181 [==============================] - 42s 2ms/step - loss: 0.0038 - acc: 0.9998 - val_loss: 0.1076 - val_acc: 0.9741\n",
      "Epoch 9/20\n",
      "20181/20181 [==============================] - 42s 2ms/step - loss: 0.0036 - acc: 0.9998 - val_loss: 0.1035 - val_acc: 0.9755\n",
      "Epoch 10/20\n",
      "20181/20181 [==============================] - 42s 2ms/step - loss: 0.0035 - acc: 0.9998 - val_loss: 0.0991 - val_acc: 0.9768\n",
      "Epoch 11/20\n",
      "20181/20181 [==============================] - 42s 2ms/step - loss: 0.0034 - acc: 0.9998 - val_loss: 0.0959 - val_acc: 0.9773\n",
      "Epoch 12/20\n",
      "20181/20181 [==============================] - 42s 2ms/step - loss: 0.0034 - acc: 0.9998 - val_loss: 0.0909 - val_acc: 0.9786\n",
      "Epoch 13/20\n",
      "20181/20181 [==============================] - 42s 2ms/step - loss: 0.0033 - acc: 0.9998 - val_loss: 0.0876 - val_acc: 0.9790\n",
      "Epoch 14/20\n",
      "20181/20181 [==============================] - 42s 2ms/step - loss: 0.0033 - acc: 0.9998 - val_loss: 0.0837 - val_acc: 0.9808\n",
      "Epoch 15/20\n",
      "20181/20181 [==============================] - 42s 2ms/step - loss: 0.0033 - acc: 0.9998 - val_loss: 0.0800 - val_acc: 0.9813\n",
      "Epoch 16/20\n",
      "20181/20181 [==============================] - 42s 2ms/step - loss: 0.0033 - acc: 0.9998 - val_loss: 0.0774 - val_acc: 0.9826\n",
      "Epoch 17/20\n",
      "20181/20181 [==============================] - 42s 2ms/step - loss: 0.0032 - acc: 0.9998 - val_loss: 0.0735 - val_acc: 0.9835\n",
      "Epoch 18/20\n",
      "20181/20181 [==============================] - 42s 2ms/step - loss: 0.0032 - acc: 0.9998 - val_loss: 0.0714 - val_acc: 0.9840\n",
      "Epoch 19/20\n",
      "20181/20181 [==============================] - 42s 2ms/step - loss: 0.0032 - acc: 0.9998 - val_loss: 0.0679 - val_acc: 0.9853\n",
      "Epoch 20/20\n",
      "20181/20181 [==============================] - 42s 2ms/step - loss: 0.0032 - acc: 0.9998 - val_loss: 0.0659 - val_acc: 0.9853\n"
     ]
    },
    {
     "data": {
      "text/plain": [
       "<keras.callbacks.History at 0x7f2bbf13b310>"
      ]
     },
     "execution_count": 45,
     "metadata": {},
     "output_type": "execute_result"
    }
   ],
   "source": [
    "fc_model.fit(x=training_data,\n",
    "             y=training_classes,\n",
    "             batch_size=32,\n",
    "             validation_data=(val_features,img_val_classes),\n",
    "             epochs=20,\n",
    "             verbose=1)"
   ]
  },
  {
   "cell_type": "code",
   "execution_count": 49,
   "metadata": {
    "collapsed": false
   },
   "outputs": [],
   "source": [
    "total_model_layers = conv_model.layers + fc_model.layers\n",
    "final_model = Sequential(total_model_layers)"
   ]
  },
  {
   "cell_type": "code",
   "execution_count": 53,
   "metadata": {
    "collapsed": false
   },
   "outputs": [
    {
     "name": "stdout",
     "output_type": "stream",
     "text": [
      "{'disp': <function disp at 0x7f2c2d56ade8>, 'union1d': <function union1d at 0x7f2c2d523848>, 'all': <function all at 0x7f2c2d985230>, 'issubsctype': <function issubsctype at 0x7f2c2d959d70>, 'savez': <function savez at 0x7f2c2d0940c8>, 'atleast_2d': <function atleast_2d at 0x7f2c2d5cec80>, 'restoredot': <function restoredot at 0x7f2c2d974578>, 'ptp': <function ptp at 0x7f2c2d985398>, 'PackageLoader': <class 'numpy._import_tools.PackageLoader'>, 'ix_': <function ix_ at 0x7f2c2d4f2a28>, 'mirr': <function mirr at 0x7f2c2d0970c8>, 'blackman': <function blackman at 0x7f2c2d562488>, 'FLOATING_POINT_SUPPORT': 1, 'division': _Feature((2, 2, 0, 'alpha', 2), (3, 0, 0, 'alpha', 0), 8192), 'busdaycalendar': <type 'numpy.busdaycalendar'>, 'pkgload': <function pkgload at 0x7f2c3c3e1230>, 'void': <type 'numpy.void'>, 'ubyte': <type 'numpy.uint8'>, 'moveaxis': <function moveaxis at 0x7f2c2d9747d0>, 'ERR_RAISE': 2, 'void0': <type 'numpy.void'>, 'tri': <function tri at 0x7f2c2d556b90>, 'diag_indices': <function diag_indices at 0x7f2c2d4f7578>, 'array_equal': <function array_equal at 0x7f2c2d9870c8>, 'fmod': <ufunc 'fmod'>, 'True_': True, 'indices': <function indices at 0x7f2c2d986b90>, 'loads': <built-in function loads>, 'float_power': <ufunc 'float_power'>, 'round': <function round_ at 0x7f2c2d985848>, 'set_numeric_ops': <built-in function set_numeric_ops>, 'pmt': <function pmt at 0x7f2c2d094b90>, 'nanstd': <function nanstd at 0x7f2c2d4fe668>, '_mat': <module 'numpy.matrixlib' from '/home/ubuntu/anaconda2/lib/python2.7/site-packages/numpy/matrixlib/__init__.pyc'>, 'cosh': <ufunc 'cosh'>, 'object0': <type 'numpy.object_'>, 'argpartition': <function argpartition at 0x7f2c2d984848>, 'FPE_OVERFLOW': 2, 'index_exp': <numpy.lib.index_tricks.IndexExpression object at 0x7f2c2d4f16d0>, 'append': <function append at 0x7f2c2d562e60>, 'compat': <module 'numpy.compat' from '/home/ubuntu/anaconda2/lib/python2.7/site-packages/numpy/compat/__init__.pyc'>, 'nanargmax': <function nanargmax at 0x7f2c2d4f7f50>, 'hstack': <function hstack at 0x7f2c2d5cede8>, 'typename': <function typename at 0x7f2c2d54a938>, 'diag': <function diag at 0x7f2c2d556aa0>, 'rollaxis': <function rollaxis at 0x7f2c2d9746e0>, 'ERR_WARN': 1, 'polyfit': <function polyfit at 0x7f2c2d522500>, 'version': <module 'numpy.version' from '/home/ubuntu/anaconda2/lib/python2.7/site-packages/numpy/version.pyc'>, 'memmap': <class 'numpy.core.memmap.memmap'>, 'nan_to_num': <function nan_to_num at 0x7f2c2d54a7d0>, 'complex64': <type 'numpy.complex64'>, 'fmax': <ufunc 'fmax'>, 'spacing': <ufunc 'spacing'>, 'sinh': <ufunc 'sinh'>, '__git_revision__': 'Unknown', 'unicode_': <type 'numpy.unicode_'>, 'sinc': <function sinc at 0x7f2c2d5628c0>, 'trunc': <ufunc 'trunc'>, 'vstack': <function vstack at 0x7f2c2d5ced70>, 'ERR_PRINT': 4, 'asscalar': <function asscalar at 0x7f2c2d54a8c0>, 'copysign': <ufunc 'copysign'>, 'less_equal': <ufunc 'less_equal'>, 'BUFSIZE': 8192, 'object_': <type 'numpy.object_'>, 'divide': <ufunc 'divide'>, 'csingle': <type 'numpy.complex64'>, 'dtype': <type 'numpy.dtype'>, 'unsignedinteger': <type 'numpy.unsignedinteger'>, 'fastCopyAndTranspose': <built-in function _fastCopyAndTranspose>, 'bitwise_and': <ufunc 'bitwise_and'>, 'uintc': <type 'numpy.uint32'>, 'select': <function select at 0x7f2c2d56a7d0>, 'deg2rad': <ufunc 'deg2rad'>, 'nditer': <type 'numpy.nditer'>, 'eye': <function eye at 0x7f2c2d556a28>, 'kron': <function kron at 0x7f2c2d4feed8>, 'newbuffer': <built-in function newbuffer>, 'negative': <ufunc 'negative'>, 'busday_offset': <built-in function busday_offset>, 'mintypecode': <function mintypecode at 0x7f2c2d54a398>, 'MAXDIMS': 32, 'sort': <function sort at 0x7f2c2d9848c0>, 'einsum': <function einsum at 0x7f2c2d5d92a8>, 'uint0': <type 'numpy.uint64'>, 'zeros_like': <function zeros_like at 0x7f2c2d96ab90>, 'int_asbuffer': <built-in function int_asbuffer>, 'uint8': <type 'numpy.uint8'>, 'chararray': <class 'numpy.core.defchararray.chararray'>, 'linspace': <function linspace at 0x7f2c2d5ce320>, 'resize': <function resize at 0x7f2c2d984b18>, 'uint64': <type 'numpy.uint64'>, 'ma': <module 'numpy.ma' from '/home/ubuntu/anaconda2/lib/python2.7/site-packages/numpy/ma/__init__.pyc'>, 'true_divide': <ufunc 'true_divide'>, 'Inf': inf, 'finfo': <class 'numpy.core.getlimits.finfo'>, 'triu_indices': <function triu_indices at 0x7f2c2d556f50>, 'complex256': <type 'numpy.complex256'>, 'add_newdoc': <function add_newdoc at 0x7f2c2d562c80>, 'seterrcall': <function seterrcall at 0x7f2c2d987398>, 'logical_or': <ufunc 'logical_or'>, 'minimum': <ufunc 'minimum'>, 'WRAP': 1, 'tan': <ufunc 'tan'>, 'absolute': <ufunc 'absolute'>, 'MAY_SHARE_EXACT': -1, 'numarray': 'removed', 'array_repr': <function array_repr at 0x7f2c2d9862a8>, 'get_array_wrap': <function get_array_wrap at 0x7f2c2d4fee60>, 'polymul': <function polymul at 0x7f2c2d5226e0>, 'tile': <function tile at 0x7f2c2d4fef50>, 'array_str': <function array_str at 0x7f2c2d986aa0>, 'setdiff1d': <function setdiff1d at 0x7f2c2d5238c0>, 'sin': <ufunc 'sin'>, 'longlong': <type 'numpy.int64'>, 'product': <function product at 0x7f2c2d985050>, 'int16': <type 'numpy.int16'>, 'str_': <type 'numpy.string_'>, 'mat': <function asmatrix at 0x7f2c2d4f0398>, 'fv': <function fv at 0x7f2c2d094b18>, 'max': <function amax at 0x7f2c2d985410>, 'asanyarray': <function asanyarray at 0x7f2c2d96af50>, 'uint': <type 'numpy.uint64'>, 'npv': <function npv at 0x7f2c2d097050>, 'logaddexp': <ufunc 'logaddexp'>, 'flatnonzero': <function flatnonzero at 0x7f2c2d9742a8>, 'amin': <function amin at 0x7f2c2d985488>, 'correlate': <function correlate at 0x7f2c2d974398>, 'fromstring': <built-in function fromstring>, 'left_shift': <ufunc 'left_shift'>, 'searchsorted': <function searchsorted at 0x7f2c2d984aa0>, 'int64': <type 'numpy.int64'>, 'may_share_memory': <built-in function may_share_memory>, 'nancumprod': <function nancumprod at 0x7f2c2d4fe1b8>, 'dsplit': <function dsplit at 0x7f2c2d4fed70>, 'intersect1d': <function intersect1d at 0x7f2c2d5236e0>, 'can_cast': <built-in function can_cast>, 'ppmt': <function ppmt at 0x7f2c2d094d70>, 'show_config': <function show at 0x7f2c3c45be60>, 'cumsum': <function cumsum at 0x7f2c2d9852a8>, 'roots': <function roots at 0x7f2c2d522398>, 'outer': <function outer at 0x7f2c2d974488>, 'CLIP': 0, 'fix': <function fix at 0x7f2c2d54a230>, 'busday_count': <built-in function busday_count>, 'timedelta64': <type 'numpy.timedelta64'>, 'degrees': <ufunc 'degrees'>, 'choose': <function choose at 0x7f2c2d984578>, 'FPE_INVALID': 8, 'recfromcsv': <function recfromcsv at 0x7f2c2d094668>, 'fill_diagonal': <function fill_diagonal at 0x7f2c2d4f2f50>, 'empty_like': <built-in function empty_like>, 'logaddexp2': <ufunc 'logaddexp2'>, 'greater': <ufunc 'greater'>, 'histogram2d': <function histogram2d at 0x7f2c2d556d70>, 'nancumsum': <function nancumsum at 0x7f2c2d4fe140>, 'polyint': <function polyint at 0x7f2c2d522410>, 'arctan2': <ufunc 'arctan2'>, 'datetime64': <type 'numpy.datetime64'>, 'complexfloating': <type 'numpy.complexfloating'>, 'ndindex': <class 'numpy.lib.index_tricks.ndindex'>, 'ctypeslib': <module 'numpy.ctypeslib' from '/home/ubuntu/anaconda2/lib/python2.7/site-packages/numpy/ctypeslib.pyc'>, 'PZERO': 0.0, 'isfortran': <function isfortran at 0x7f2c2d9741b8>, 'asfarray': <function asfarray at 0x7f2c2d54a410>, 'nanmedian': <function nanmedian at 0x7f2c2d4fe410>, 'radians': <ufunc 'radians'>, 'fliplr': <function fliplr at 0x7f2c2d556938>, 'alen': <function alen at 0x7f2c2d985500>, 'recarray': <class 'numpy.recarray'>, 'modf': <ufunc 'modf'>, 'mean': <function mean at 0x7f2c2d9858c0>, 'square': <ufunc 'square'>, 'ogrid': <numpy.lib.index_tricks.nd_grid object at 0x7f2c2d4f1510>, 'MAY_SHARE_BOUNDS': 0, 'nanargmin': <function nanargmin at 0x7f2c2d4f7ed8>, 'r_': <numpy.lib.index_tricks.RClass object at 0x7f2c2d4f1590>, 'diag_indices_from': <function diag_indices_from at 0x7f2c2d4f75f0>, 'hanning': <function hanning at 0x7f2c2d562578>, 's_': <numpy.lib.index_tricks.IndexExpression object at 0x7f2c2d4f1750>, 'allclose': <function allclose at 0x7f2c2d986f50>, 'extract': <function extract at 0x7f2c2d56acf8>, 'float16': <type 'numpy.float16'>, 'ulonglong': <type 'numpy.uint64'>, 'matrix': <class 'numpy.matrixlib.defmatrix.matrix'>, 'asarray': <function asarray at 0x7f2c2d96aed8>, 'poly1d': <class 'numpy.lib.polynomial.poly1d'>, 'promote_types': <built-in function promote_types>, 'rec': <module 'numpy.core.records' from '/home/ubuntu/anaconda2/lib/python2.7/site-packages/numpy/core/records.pyc'>, 'datetime_as_string': <built-in function datetime_as_string>, 'uint32': <type 'numpy.uint32'>, 'math': <module 'math' from '/home/ubuntu/anaconda2/lib/python2.7/lib-dynload/math.so'>, 'log2': <ufunc 'log2'>, '__builtins__': {'bytearray': <type 'bytearray'>, 'IndexError': <type 'exceptions.IndexError'>, 'all': <built-in function all>, 'help': Type help() for interactive help, or help(object) for help about object., 'vars': <built-in function vars>, 'SyntaxError': <type 'exceptions.SyntaxError'>, 'unicode': <type 'unicode'>, 'UnicodeDecodeError': <type 'exceptions.UnicodeDecodeError'>, 'memoryview': <type 'memoryview'>, 'isinstance': <built-in function isinstance>, 'copyright': Copyright (c) 2001-2016 Python Software Foundation.\n",
      "All Rights Reserved.\n",
      "\n",
      "Copyright (c) 2000 BeOpen.com.\n",
      "All Rights Reserved.\n",
      "\n",
      "Copyright (c) 1995-2001 Corporation for National Research Initiatives.\n",
      "All Rights Reserved.\n",
      "\n",
      "Copyright (c) 1991-1995 Stichting Mathematisch Centrum, Amsterdam.\n",
      "All Rights Reserved., 'NameError': <type 'exceptions.NameError'>, 'BytesWarning': <type 'exceptions.BytesWarning'>, 'dict': <type 'dict'>, 'input': <function <lambda> at 0x7f2bbd976758>, 'oct': <built-in function oct>, 'bin': <built-in function bin>, 'SystemExit': <type 'exceptions.SystemExit'>, 'StandardError': <type 'exceptions.StandardError'>, 'format': <built-in function format>, 'repr': <built-in function repr>, '__cffi_backend_extern_py': {139826686475808: (<ctype 'int(*)(unsigned char *, int)'>, <function _osrandom_rand_bytes at 0x7f2bf80b2140>, '\\xff\\xff\\xff\\xff\\x00\\x00\\x00\\x00', None), 139826686475840: (<ctype 'int(*)()'>, <function _osrandom_rand_status at 0x7f2bf80b21b8>, '\\x00\\x00\\x00\\x00\\x00\\x00\\x00\\x00', None), 139826686475744: (<ctype 'void(*)(int, int, char *, int)'>, <bound method type._lock_cb of <class 'cryptography.hazmat.bindings.openssl.binding.Binding'>>, '\\x00\\x00\\x00\\x00\\x00\\x00\\x00\\x00', None), 139826686475776: (<ctype 'int(*)(char *, int, int, void *)'>, <function _pem_password_cb at 0x7f2bef4ac320>, '\\x00\\x00\\x00\\x00\\x00\\x00\\x00\\x00', None)}, 'sorted': <built-in function sorted>, 'False': False, 'RuntimeWarning': <type 'exceptions.RuntimeWarning'>, 'list': <type 'list'>, 'iter': <built-in function iter>, 'reload': <built-in function reload>, 'Warning': <type 'exceptions.Warning'>, '__package__': None, 'round': <built-in function round>, 'dir': <built-in function dir>, 'cmp': <built-in function cmp>, 'set': <type 'set'>, 'bytes': <type 'str'>, 'reduce': <built-in function reduce>, 'intern': <built-in function intern>, 'issubclass': <built-in function issubclass>, 'Ellipsis': Ellipsis, 'EOFError': <type 'exceptions.EOFError'>, 'locals': <built-in function locals>, 'BufferError': <type 'exceptions.BufferError'>, 'slice': <type 'slice'>, 'FloatingPointError': <type 'exceptions.FloatingPointError'>, 'sum': <built-in function sum>, 'getattr': <built-in function getattr>, 'abs': <built-in function abs>, 'print': <built-in function print>, 'True': True, 'FutureWarning': <type 'exceptions.FutureWarning'>, 'ImportWarning': <type 'exceptions.ImportWarning'>, 'None': None, 'hash': <built-in function hash>, 'ReferenceError': <type 'exceptions.ReferenceError'>, 'len': <built-in function len>, 'credits':     Thanks to CWI, CNRI, BeOpen.com, Zope Corporation and a cast of thousands\n",
      "    for supporting Python development.  See www.python.org for more information., 'frozenset': <type 'frozenset'>, '__name__': '__builtin__', 'ord': <built-in function ord>, 'super': <type 'super'>, 'TypeError': <type 'exceptions.TypeError'>, 'license': Type license() to see the full license text, 'KeyboardInterrupt': <type 'exceptions.KeyboardInterrupt'>, 'UserWarning': <type 'exceptions.UserWarning'>, 'filter': <built-in function filter>, 'range': <built-in function range>, 'staticmethod': <type 'staticmethod'>, 'SystemError': <type 'exceptions.SystemError'>, 'BaseException': <type 'exceptions.BaseException'>, 'pow': <built-in function pow>, 'RuntimeError': <type 'exceptions.RuntimeError'>, 'float': <type 'float'>, 'MemoryError': <type 'exceptions.MemoryError'>, 'StopIteration': <type 'exceptions.StopIteration'>, 'globals': <built-in function globals>, 'divmod': <built-in function divmod>, 'enumerate': <type 'enumerate'>, 'apply': <built-in function apply>, 'LookupError': <type 'exceptions.LookupError'>, 'open': <built-in function open>, 'basestring': <type 'basestring'>, 'UnicodeError': <type 'exceptions.UnicodeError'>, 'zip': <built-in function zip>, 'hex': <built-in function hex>, 'long': <type 'long'>, 'next': <built-in function next>, 'ImportError': <type 'exceptions.ImportError'>, 'chr': <built-in function chr>, 'xrange': <type 'xrange'>, 'type': <type 'type'>, '__doc__': \"Built-in functions, exceptions, and other objects.\\n\\nNoteworthy: None is the `nil' object; Ellipsis represents `...' in slices.\", 'Exception': <type 'exceptions.Exception'>, '__IPYTHON__': True, 'tuple': <type 'tuple'>, 'UnicodeTranslateError': <type 'exceptions.UnicodeTranslateError'>, 'reversed': <type 'reversed'>, 'UnicodeEncodeError': <type 'exceptions.UnicodeEncodeError'>, 'IOError': <type 'exceptions.IOError'>, 'hasattr': <built-in function hasattr>, 'delattr': <built-in function delattr>, 'setattr': <built-in function setattr>, 'raw_input': <bound method IPythonKernel.raw_input of <ipykernel.ipkernel.IPythonKernel object at 0x7f2c44f41a90>>, 'SyntaxWarning': <type 'exceptions.SyntaxWarning'>, 'compile': <built-in function compile>, 'ArithmeticError': <type 'exceptions.ArithmeticError'>, 'str': <type 'str'>, 'property': <type 'property'>, 'dreload': <function _dreload at 0x7f2c3c5272a8>, 'display': <function display at 0x7f2c4301e2a8>, 'GeneratorExit': <type 'exceptions.GeneratorExit'>, 'int': <type 'int'>, '__import__': <built-in function __import__>, 'KeyError': <type 'exceptions.KeyError'>, 'coerce': <built-in function coerce>, 'PendingDeprecationWarning': <type 'exceptions.PendingDeprecationWarning'>, 'file': <type 'file'>, 'EnvironmentError': <type 'exceptions.EnvironmentError'>, 'unichr': <built-in function unichr>, 'id': <built-in function id>, 'OSError': <type 'exceptions.OSError'>, 'DeprecationWarning': <type 'exceptions.DeprecationWarning'>, 'min': <built-in function min>, 'UnicodeWarning': <type 'exceptions.UnicodeWarning'>, 'execfile': <built-in function execfile>, 'any': <built-in function any>, 'complex': <type 'complex'>, 'bool': <type 'bool'>, 'get_ipython': <bound method ZMQInteractiveShell.get_ipython of <ipykernel.zmqshell.ZMQInteractiveShell object at 0x7f2c44f52e50>>, 'ValueError': <type 'exceptions.ValueError'>, 'NotImplemented': NotImplemented, 'map': <built-in function map>, 'buffer': <type 'buffer'>, 'max': <built-in function max>, 'object': <type 'object'>, 'TabError': <type 'exceptions.TabError'>, 'callable': <built-in function callable>, 'ZeroDivisionError': <type 'exceptions.ZeroDivisionError'>, 'eval': <built-in function eval>, '__debug__': True, 'IndentationError': <type 'exceptions.IndentationError'>, 'AssertionError': <type 'exceptions.AssertionError'>, 'classmethod': <type 'classmethod'>, 'UnboundLocalError': <type 'exceptions.UnboundLocalError'>, 'NotImplementedError': <type 'exceptions.NotImplementedError'>, 'AttributeError': <type 'exceptions.AttributeError'>, 'OverflowError': <type 'exceptions.OverflowError'>}, 'cumproduct': <function cumproduct at 0x7f2c2d985320>, 'diagonal': <function diagonal at 0x7f2c2d984c08>, 'atleast_1d': <function atleast_1d at 0x7f2c2d5cec08>, 'meshgrid': <function meshgrid at 0x7f2c2d562cf8>, 'column_stack': <function column_stack at 0x7f2c2d4fea28>, 'put': <function put at 0x7f2c2d984668>, 'byte': <type 'numpy.int8'>, 'remainder': <ufunc 'remainder'>, 'row_stack': <function vstack at 0x7f2c2d5ced70>, 'expm1': <ufunc 'expm1'>, 'nper': <function nper at 0x7f2c2d094c08>, 'ndfromtxt': <function ndfromtxt at 0x7f2c2d094500>, 'matmul': <built-in function matmul>, 'place': <function place at 0x7f2c2d56ad70>, 'DataSource': <class 'numpy.lib._datasource.DataSource'>, 'newaxis': None, 'arccos': <ufunc 'arccos'>, 'signedinteger': <type 'numpy.signedinteger'>, 'ndim': <function ndim at 0x7f2c2d985668>, 'rint': <ufunc 'rint'>, 'number': <type 'numpy.number'>, 'rank': <function rank at 0x7f2c2d9856e0>, 'little_endian': True, 'ldexp': <ufunc 'ldexp'>, 'lookfor': <function lookfor at 0x7f2c2d5412a8>, 'array': <built-in function array>, 'vsplit': <function vsplit at 0x7f2c2d4fecf8>, 'common_type': <function common_type at 0x7f2c2d54a9b0>, 'size': <function size at 0x7f2c2d985758>, 'logical_xor': <ufunc 'logical_xor'>, 'geterrcall': <function geterrcall at 0x7f2c2d987410>, 'sometrue': <function sometrue at 0x7f2c2d9850c8>, 'exp2': <ufunc 'exp2'>, 'bool8': <type 'numpy.bool_'>, 'msort': <function msort at 0x7f2c2d562938>, 'alltrue': <function alltrue at 0x7f2c2d985140>, 'zeros': <built-in function zeros>, 'False_': False, '__NUMPY_SETUP__': False, 'nansum': <function nansum at 0x7f2c2d4fe050>, 'bool_': <type 'numpy.bool_'>, 'inexact': <type 'numpy.inexact'>, 'nanpercentile': <function nanpercentile at 0x7f2c2d4fe488>, 'broadcast': <type 'numpy.broadcast'>, 'copyto': <built-in function copyto>, 'short': <type 'numpy.int16'>, 'arctanh': <ufunc 'arctanh'>, 'typecodes': {'All': '?bhilqpBHILQPefdgFDGSUVOMm', 'Complex': 'FDG', 'AllFloat': 'efdgFDG', 'Integer': 'bhilqp', 'UnsignedInteger': 'BHILQP', 'Float': 'efdg', 'Character': 'c', 'Datetime': 'Mm', 'AllInteger': 'bBhHiIlLqQpP'}, 'rot90': <function rot90 at 0x7f2c2d56a0c8>, 'savetxt': <function savetxt at 0x7f2c2d094398>, 'sign': <ufunc 'sign'>, 'int_': <type 'numpy.int64'>, 'std': <function std at 0x7f2c2d985938>, 'not_equal': <ufunc 'not_equal'>, 'fromfunction': <function fromfunction at 0x7f2c2d986c08>, 'tril_indices_from': <function tril_indices_from at 0x7f2c2d556ed8>, '__config__': <module 'numpy.__config__' from '/home/ubuntu/anaconda2/lib/python2.7/site-packages/numpy/__config__.pyc'>, 'double': <type 'numpy.float64'>, 'require': <function require at 0x7f2c2d974140>, 'rate': <function rate at 0x7f2c2d094ed8>, 'typeNA': {<type 'numpy.float128'>: 'Float128', 'Int32': <type 'numpy.int32'>, 'Complex64': <type 'numpy.complex128'>, <type 'numpy.float64'>: 'Float64', 'c16': 'Complex64', 'D': 'Complex64', 'H': 'UInt16', <type 'numpy.float32'>: 'Float32', 'L': 'UInt64', 'd': 'Float64', <type 'numpy.float16'>: 'Float16', 'h': 'Int16', 'l': 'Int64', 'c32': 'Complex128', <type 'numpy.uint64'>: 'UInt64', 'Timedelta64': <type 'numpy.timedelta64'>, 'b1': 'Bool', <type 'numpy.uint64'>: 'UInt64', 'M8': 'Datetime64', 'String0': <type 'numpy.string_'>, 'I': 'UInt32', <type 'numpy.uint32'>: 'UInt32', '?': 'Bool', 'Void0': <type 'numpy.void'>, 'G': 'Complex128', 'O': 'Object0', 'UInt8': <type 'numpy.uint8'>, 'S': 'String0', <type 'numpy.uint16'>: 'UInt16', 'UInt64': <type 'numpy.uint64'>, 'g': 'Float128', <type 'numpy.uint8'>: 'UInt8', 'Float16': <type 'numpy.float16'>, <type 'numpy.int64'>: 'Int64', 'Bool': <type 'numpy.bool_'>, 'f4': 'Float32', <type 'numpy.int64'>: 'Int64', 'u8': <type 'numpy.uint64'>, 'u4': <type 'numpy.uint32'>, 'Unicode0': <type 'numpy.unicode_'>, 'u1': <type 'numpy.uint8'>, 'u2': <type 'numpy.uint16'>, <type 'numpy.int32'>: 'Int32', 'Datetime64': <type 'numpy.datetime64'>, 'Int8': <type 'numpy.int8'>, 'B': 'UInt8', 'F': 'Complex32', <type 'numpy.int16'>: 'Int16', 'c8': 'Complex32', 'Int64': <type 'numpy.int64'>, 'Complex32': <type 'numpy.complex64'>, 'V': 'Void0', 'e': 'Float16', 'b': 'Int8', 'f': 'Float32', <type 'numpy.int8'>: 'Int8', 'm8': 'Timedelta64', 'f16': 'Float128', 'UInt32': <type 'numpy.uint32'>, 'f2': 'Float16', <type 'numpy.void'>: 'Void0', 'f8': 'Float64', <type 'numpy.object_'>: 'Object0', 'Complex128': <type 'numpy.complex256'>, <type 'numpy.complex256'>: 'Complex128', <type 'numpy.unicode_'>: 'Unicode0', 'q': 'Int64', 'Int16': <type 'numpy.int16'>, 'Float64': <type 'numpy.float64'>, <type 'numpy.complex128'>: 'Complex64', 'UInt16': <type 'numpy.uint16'>, <type 'numpy.complex64'>: 'Complex32', 'Float32': <type 'numpy.float32'>, <type 'numpy.string_'>: 'String0', 'i8': <type 'numpy.int64'>, 'i1': <type 'numpy.int8'>, 'i2': <type 'numpy.int16'>, 'M': 'Datetime64', 'i4': <type 'numpy.int32'>, 'Q': 'UInt64', <type 'numpy.bool_'>: 'Bool', 'U': 'Unicode0', <type 'numpy.timedelta64'>: 'Timedelta64', 'i': 'Int32', 'm': 'Timedelta64', 'Object0': <type 'numpy.object_'>, 'Float128': <type 'numpy.float128'>, <type 'numpy.datetime64'>: 'Datetime64'}, 'str': <type 'str'>, 'getbuffer': <built-in function getbuffer>, 'abs': <ufunc 'absolute'>, 'clip': <function clip at 0x7f2c2d984ed8>, 'savez_compressed': <function savez_compressed at 0x7f2c2d094140>, 'frompyfunc': <built-in function frompyfunc>, 'triu_indices_from': <function triu_indices_from at 0x7f2c2d56a050>, 'conjugate': <ufunc 'conjugate'>, 'alterdot': <function alterdot at 0x7f2c2d974500>, 'asfortranarray': <function asfortranarray at 0x7f2c2d9740c8>, 'binary_repr': <function binary_repr at 0x7f2c2d986cf8>, 'angle': <function angle at 0x7f2c2d56aa28>, 'lib': <module 'numpy.lib' from '/home/ubuntu/anaconda2/lib/python2.7/site-packages/numpy/lib/__init__.pyc'>, 'min': <function amin at 0x7f2c2d985488>, 'unwrap': <function unwrap at 0x7f2c2d56aaa0>, 'apply_over_axes': <function apply_over_axes at 0x7f2c2d4fe938>, 'ERR_LOG': 5, 'right_shift': <ufunc 'right_shift'>, 'take': <function take at 0x7f2c2d984488>, 'geomspace': <function geomspace at 0x7f2c2d5ce410>, 'byte_bounds': <function byte_bounds at 0x7f2c2d5aced8>, 'trace': <function trace at 0x7f2c2d984c80>, 'warnings': <module 'warnings' from '/home/ubuntu/anaconda2/lib/python2.7/warnings.pyc'>, 'any': <function any at 0x7f2c2d9851b8>, 'shares_memory': <built-in function shares_memory>, 'compress': <function compress at 0x7f2c2d984e60>, 'histogramdd': <function histogramdd at 0x7f2c2d56a5f0>, 'issubclass_': <function issubclass_ at 0x7f2c2d959cf8>, 'multiply': <ufunc 'multiply'>, 'mask_indices': <function mask_indices at 0x7f2c2d556de8>, 'amax': <function amax at 0x7f2c2d985410>, 'logical_not': <ufunc 'logical_not'>, 'average': <function average at 0x7f2c2d56a668>, 'partition': <function partition at 0x7f2c2d9847d0>, 'nbytes': {<type 'numpy.uint64'>: 8, <type 'numpy.int64'>: 8, <type 'numpy.void'>: 0, <type 'numpy.complex256'>: 32, <type 'numpy.float128'>: 16, <type 'numpy.uint64'>: 8, <type 'numpy.int64'>: 8, <type 'numpy.unicode_'>: 0, <type 'numpy.complex128'>: 16, <type 'numpy.float64'>: 8, <type 'numpy.uint32'>: 4, <type 'numpy.int32'>: 4, <type 'numpy.string_'>: 0, <type 'numpy.complex64'>: 8, <type 'numpy.float32'>: 4, <type 'numpy.uint16'>: 2, <type 'numpy.int16'>: 2, <type 'numpy.bool_'>: 1, <type 'numpy.timedelta64'>: 8, <type 'numpy.float16'>: 2, <type 'numpy.uint8'>: 1, <type 'numpy.int8'>: 1, <type 'numpy.object_'>: 8, <type 'numpy.datetime64'>: 8}, 'exp': <ufunc 'exp'>, 'sum': <function sum at 0x7f2c2d984f50>, 'dot': <built-in function dot>, 'int0': <type 'numpy.int64'>, 'nanprod': <function nanprod at 0x7f2c2d4fe0c8>, 'longfloat': <type 'numpy.float128'>, 'random': <module 'numpy.random' from '/home/ubuntu/anaconda2/lib/python2.7/site-packages/numpy/random/__init__.pyc'>, 'setxor1d': <function setxor1d at 0x7f2c2d523758>, 'copy': <function copy at 0x7f2c2d56a848>, 'FPE_UNDERFLOW': 4, 'frexp': <ufunc 'frexp'>, 'errstate': <class 'numpy.core.numeric.errstate'>, 'nanmin': <function nanmin at 0x7f2c2d4f7de8>, 'swapaxes': <function swapaxes at 0x7f2c2d9846e0>, 'SHIFT_OVERFLOW': 3, 'infty': inf, 'fft': <module 'numpy.fft' from '/home/ubuntu/anaconda2/lib/python2.7/site-packages/numpy/fft/__init__.pyc'>, 'ModuleDeprecationWarning': <class 'numpy._globals.ModuleDeprecationWarning'>, 'digitize': <built-in function digitize>, '__file__': '/home/ubuntu/anaconda2/lib/python2.7/site-packages/numpy/__init__.pyc', 'NZERO': -0.0, 'ceil': <ufunc 'ceil'>, 'ones': <function ones at 0x7f2c2d96ac08>, 'add_newdoc_ufunc': <built-in function _add_newdoc_ufunc>, '_NoValue': <class numpy._globals._NoValue at 0x7f2c3c44f738>, 'deprecate': <function deprecate at 0x7f2c2d5accf8>, 'median': <function median at 0x7f2c2d562a28>, 'geterr': <function geterr at 0x7f2c2d987230>, 'convolve': <function convolve at 0x7f2c2d974410>, 'isreal': <function isreal at 0x7f2c2d54a5f0>, 'where': <built-in function where>, 'isfinite': <ufunc 'isfinite'>, 'SHIFT_UNDERFLOW': 6, 'MachAr': <class 'numpy.core.machar.MachAr'>, 'argmax': <function argmax at 0x7f2c2d9849b0>, 'testing': <module 'numpy.testing' from '/home/ubuntu/anaconda2/lib/python2.7/site-packages/numpy/testing/__init__.pyc'>, 'einsum_path': <function einsum_path at 0x7f2c2d5d9230>, 'flip': <function flip at 0x7f2c2d56a140>, 'full': <function full at 0x7f2c2d96acf8>, 'polyder': <function polyder at 0x7f2c2d522488>, 'rad2deg': <ufunc 'rad2deg'>, 'isnan': <ufunc 'isnan'>, '__all__': ['add_newdocs', 'ModuleDeprecationWarning', 'VisibleDeprecationWarning', '__version__', 'pkgload', 'PackageLoader', 'show_config', 'char', 'rec', 'memmap', 'newaxis', 'ndarray', 'flatiter', 'nditer', 'nested_iters', 'ufunc', 'arange', 'array', 'zeros', 'count_nonzero', 'empty', 'broadcast', 'dtype', 'fromstring', 'fromfile', 'frombuffer', 'int_asbuffer', 'where', 'argwhere', 'copyto', 'concatenate', 'fastCopyAndTranspose', 'lexsort', 'set_numeric_ops', 'can_cast', 'promote_types', 'min_scalar_type', 'result_type', 'asarray', 'asanyarray', 'ascontiguousarray', 'asfortranarray', 'isfortran', 'empty_like', 'zeros_like', 'ones_like', 'correlate', 'convolve', 'inner', 'dot', 'outer', 'vdot', 'alterdot', 'restoredot', 'roll', 'rollaxis', 'moveaxis', 'cross', 'tensordot', 'array2string', 'get_printoptions', 'set_printoptions', 'array_repr', 'array_str', 'set_string_function', 'little_endian', 'require', 'fromiter', 'array_equal', 'array_equiv', 'indices', 'fromfunction', 'isclose', 'load', 'loads', 'isscalar', 'binary_repr', 'base_repr', 'ones', 'identity', 'allclose', 'compare_chararrays', 'putmask', 'seterr', 'geterr', 'setbufsize', 'getbufsize', 'seterrcall', 'geterrcall', 'errstate', 'flatnonzero', 'Inf', 'inf', 'infty', 'Infinity', 'nan', 'NaN', 'False_', 'True_', 'bitwise_not', 'CLIP', 'RAISE', 'WRAP', 'MAXDIMS', 'BUFSIZE', 'ALLOW_THREADS', 'ComplexWarning', 'full', 'full_like', 'matmul', 'shares_memory', 'may_share_memory', 'MAY_SHARE_BOUNDS', 'MAY_SHARE_EXACT', 'TooHardError', 'getbuffer', 'newbuffer', 'alen', 'all', 'alltrue', 'amax', 'amin', 'any', 'argmax', 'argmin', 'argpartition', 'argsort', 'around', 'choose', 'clip', 'compress', 'cumprod', 'cumproduct', 'cumsum', 'diagonal', 'mean', 'ndim', 'nonzero', 'partition', 'prod', 'product', 'ptp', 'put', 'rank', 'ravel', 'repeat', 'reshape', 'resize', 'round_', 'searchsorted', 'shape', 'size', 'sometrue', 'sort', 'squeeze', 'std', 'sum', 'swapaxes', 'take', 'trace', 'transpose', 'var', 'less', 'ERR_CALL', 'UFUNC_BUFSIZE_DEFAULT', 'NAN', 'arctan', 'divide', 'FPE_UNDERFLOW', 'frexp', 'add', 'degrees', 'rint', 'FPE_INVALID', 'ERR_DEFAULT', 'SHIFT_OVERFLOW', 'FLOATING_POINT_SUPPORT', 'logaddexp2', 'greater', 'ERR_PRINT', 'NZERO', 'ceil', 'mod', 'PZERO', 'tanh', 'radians', 'modf', 'float_power', 'isfinite', 'square', 'SHIFT_UNDERFLOW', 'cosh', 'hypot', 'logical_and', 'rad2deg', 'isnan', 'ERR_WARN', 'NINF', 'ERR_RAISE', 'deg2rad', 'log2', 'seterrobj', 'power', 'fmax', 'copysign', 'spacing', 'fmod', 'FPE_DIVIDEBYZERO', 'remainder', 'trunc', 'expm1', 'arccosh', 'equal', 'fmin', 'arccos', 'less_equal', 'geterrobj', 'arcsinh', 'cbrt', 'arctan2', 'ldexp', 'bitwise_or', 'UFUNC_PYVALS_NAME', 'bitwise_and', 'logical_xor', 'log', 'exp2', 'invert', 'negative', 'SHIFT_INVALID', 'pi', 'log10', 'arcsin', 'cos', 'SHIFT_DIVIDEBYZERO', 'arctanh', 'e', 'sign', 'not_equal', 'reciprocal', 'frompyfunc', 'true_divide', 'maximum', 'minimum', 'FPE_OVERFLOW', 'euler_gamma', 'log1p', 'subtract', 'logical_or', 'signbit', 'conjugate', 'tan', 'conj', 'absolute', 'bitwise_xor', 'fabs', 'floor', 'ERR_IGNORE', 'sqrt', 'ERR_LOG', 'right_shift', 'floor_divide', 'sin', 'nextafter', 'isinf', 'multiply', 'logaddexp', 'sinh', 'logical_not', 'greater_equal', 'left_shift', 'PINF', 'exp', 'sctypeDict', 'sctypeNA', 'typeDict', 'typeNA', 'sctypes', 'ScalarType', 'obj2sctype', 'cast', 'nbytes', 'sctype2char', 'maximum_sctype', 'issctype', 'typecodes', 'find_common_type', 'issubdtype', 'datetime_data', 'datetime_as_string', 'busday_offset', 'busday_count', 'is_busday', 'busdaycalendar', 'complex_', 'clongfloat', 'uintp', 'intc', 'int32', 'unsignedinteger', 'longdouble', 'bool8', 'number', 'object0', 'single', 'complex64', 'intp', 'complexfloating', 'float128', 'floating', 'int16', 'cfloat', 'uint0', 'float16', 'uintc', 'ulonglong', 'longcomplex', 'generic', 'datetime64', 'int_', 'cdouble', 'character', 'complex128', 'csingle', 'uint16', 'flexible', 'ubyte', 'longfloat', 'uint32', 'string0', 'unicode_', 'longlong', 'complex256', 'str_', 'void', 'inexact', 'uint8', 'string_', 'unicode0', 'uint', 'int0', 'half', 'integer', 'byte', 'int8', 'void0', 'uint64', 'short', 'bool_', 'float64', 'timedelta64', 'double', 'ushort', 'float32', 'float_', 'int64', 'clongdouble', 'singlecomplex', 'signedinteger', 'bytes_', 'object_', 'alen', 'all', 'alltrue', 'amax', 'amin', 'any', 'argmax', 'argmin', 'argpartition', 'argsort', 'around', 'choose', 'clip', 'compress', 'cumprod', 'cumproduct', 'cumsum', 'diagonal', 'mean', 'ndim', 'nonzero', 'partition', 'prod', 'product', 'ptp', 'put', 'rank', 'ravel', 'repeat', 'reshape', 'resize', 'round_', 'searchsorted', 'shape', 'size', 'sometrue', 'sort', 'squeeze', 'std', 'sum', 'swapaxes', 'take', 'trace', 'transpose', 'var', 'record', 'recarray', 'format_parser', 'chararray', 'logspace', 'linspace', 'geomspace', 'MachAr', 'finfo', 'iinfo', 'atleast_1d', 'atleast_2d', 'atleast_3d', 'vstack', 'hstack', 'stack', 'einsum', 'einsum_path', 'matrix', 'bmat', 'mat', 'asmatrix', 'emath', 'math', 'iscomplexobj', 'isrealobj', 'imag', 'iscomplex', 'isreal', 'nan_to_num', 'real', 'real_if_close', 'typename', 'asfarray', 'mintypecode', 'asscalar', 'common_type', 'ravel_multi_index', 'unravel_index', 'mgrid', 'ogrid', 'r_', 'c_', 's_', 'index_exp', 'ix_', 'ndenumerate', 'ndindex', 'fill_diagonal', 'diag_indices', 'diag_indices_from', 'select', 'piecewise', 'trim_zeros', 'copy', 'iterable', 'percentile', 'diff', 'gradient', 'angle', 'unwrap', 'sort_complex', 'disp', 'flip', 'rot90', 'extract', 'place', 'vectorize', 'asarray_chkfinite', 'average', 'histogram', 'histogramdd', 'bincount', 'digitize', 'cov', 'corrcoef', 'msort', 'median', 'sinc', 'hamming', 'hanning', 'bartlett', 'blackman', 'kaiser', 'trapz', 'i0', 'add_newdoc', 'add_docstring', 'meshgrid', 'delete', 'insert', 'append', 'interp', 'add_newdoc_ufunc', 'column_stack', 'row_stack', 'dstack', 'array_split', 'split', 'hsplit', 'vsplit', 'dsplit', 'apply_over_axes', 'expand_dims', 'apply_along_axis', 'kron', 'tile', 'get_array_wrap', 'broadcast_to', 'broadcast_arrays', 'diag', 'diagflat', 'eye', 'fliplr', 'flipud', 'tri', 'triu', 'tril', 'vander', 'histogram2d', 'mask_indices', 'tril_indices', 'tril_indices_from', 'triu_indices', 'triu_indices_from', 'fix', 'isneginf', 'isposinf', 'pad', 'poly', 'roots', 'polyint', 'polyder', 'polyadd', 'polysub', 'polymul', 'polydiv', 'polyval', 'poly1d', 'polyfit', 'RankWarning', 'issubclass_', 'issubsctype', 'issubdtype', 'deprecate', 'deprecate_with_doc', 'get_include', 'info', 'source', 'who', 'lookfor', 'byte_bounds', 'safe_eval', 'ediff1d', 'intersect1d', 'setxor1d', 'union1d', 'setdiff1d', 'unique', 'in1d', 'savetxt', 'loadtxt', 'genfromtxt', 'ndfromtxt', 'mafromtxt', 'recfromtxt', 'recfromcsv', 'load', 'loads', 'save', 'savez', 'savez_compressed', 'packbits', 'unpackbits', 'fromregex', 'DataSource', 'fv', 'pmt', 'nper', 'ipmt', 'ppmt', 'pv', 'rate', 'irr', 'npv', 'mirr', 'nansum', 'nanmax', 'nanmin', 'nanargmax', 'nanargmin', 'nanmean', 'nanmedian', 'nanpercentile', 'nanvar', 'nanstd', 'nanprod', 'nancumsum', 'nancumprod', 'linalg', 'fft', 'random', 'ctypeslib', 'ma'], 'irr': <function irr at 0x7f2c2d094f50>, 'sctypeDict': {0: <type 'numpy.bool_'>, 1: <type 'numpy.int8'>, 2: <type 'numpy.uint8'>, 3: <type 'numpy.int16'>, 4: <type 'numpy.uint16'>, 5: <type 'numpy.int32'>, 6: <type 'numpy.uint32'>, 7: <type 'numpy.int64'>, 8: <type 'numpy.uint64'>, 9: <type 'numpy.int64'>, 10: <type 'numpy.uint64'>, 11: <type 'numpy.float32'>, 12: <type 'numpy.float64'>, 13: <type 'numpy.float128'>, 14: <type 'numpy.complex64'>, 15: <type 'numpy.complex128'>, 16: <type 'numpy.complex256'>, 17: <type 'numpy.object_'>, 18: <type 'numpy.string_'>, 19: <type 'numpy.unicode_'>, 20: <type 'numpy.void'>, 21: <type 'numpy.datetime64'>, 'unicode': <type 'numpy.unicode_'>, 23: <type 'numpy.float16'>, 'cfloat': <type 'numpy.complex128'>, 'longfloat': <type 'numpy.float128'>, 'Int32': <type 'numpy.int32'>, 'Complex64': <type 'numpy.complex128'>, 'unicode_': <type 'numpy.unicode_'>, 'complex': <type 'numpy.complex128'>, 'timedelta64': <type 'numpy.timedelta64'>, 'uint16': <type 'numpy.uint16'>, 'c16': <type 'numpy.complex128'>, 'float32': <type 'numpy.float32'>, 'complex256': <type 'numpy.complex256'>, 'D': <type 'numpy.complex128'>, 'H': <type 'numpy.uint16'>, 'void': <type 'numpy.void'>, 'unicode0': <type 'numpy.unicode_'>, 'L': <type 'numpy.uint64'>, 'P': <type 'numpy.uint64'>, 'half': <type 'numpy.float16'>, 'void0': <type 'numpy.void'>, 'd': <type 'numpy.float64'>, 'h': <type 'numpy.int16'>, 'l': <type 'numpy.int64'>, 'p': <type 'numpy.int64'>, 'c32': <type 'numpy.complex256'>, 22: <type 'numpy.timedelta64'>, 'Timedelta64': <type 'numpy.timedelta64'>, 'object0': <type 'numpy.object_'>, 'b1': <type 'numpy.bool_'>, 'float128': <type 'numpy.float128'>, 'M8': <type 'numpy.datetime64'>, 'String0': <type 'numpy.string_'>, 'float16': <type 'numpy.float16'>, 'ulonglong': <type 'numpy.uint64'>, 'i1': <type 'numpy.int8'>, 'uint32': <type 'numpy.uint32'>, '?': <type 'numpy.bool_'>, 'Void0': <type 'numpy.void'>, 'complex64': <type 'numpy.complex64'>, 'G': <type 'numpy.complex256'>, 'O': <type 'numpy.object_'>, 'UInt8': <type 'numpy.uint8'>, 'S': <type 'numpy.string_'>, 'byte': <type 'numpy.int8'>, 'UInt64': <type 'numpy.uint64'>, 'g': <type 'numpy.float128'>, 'float64': <type 'numpy.float64'>, 'ushort': <type 'numpy.uint16'>, 'float_': <type 'numpy.float64'>, 'uint': <type 'numpy.uint64'>, 'object_': <type 'numpy.object_'>, 'Float16': <type 'numpy.float16'>, 'complex_': <type 'numpy.complex128'>, 'Unicode0': <type 'numpy.unicode_'>, 'uintp': <type 'numpy.uint64'>, 'intc': <type 'numpy.int32'>, 'csingle': <type 'numpy.complex64'>, 'datetime64': <type 'numpy.datetime64'>, 'float': <type 'numpy.float64'>, 'bool8': <type 'numpy.bool_'>, 'Bool': <type 'numpy.bool_'>, 'intp': <type 'numpy.int64'>, 'uintc': <type 'numpy.uint32'>, 'bytes_': <type 'numpy.string_'>, 'u8': <type 'numpy.uint64'>, 'u4': <type 'numpy.uint32'>, 'int_': <type 'numpy.int64'>, 'cdouble': <type 'numpy.complex128'>, 'u1': <type 'numpy.uint8'>, 'complex128': <type 'numpy.complex128'>, 'u2': <type 'numpy.uint16'>, 'f8': <type 'numpy.float64'>, 'Datetime64': <type 'numpy.datetime64'>, 'ubyte': <type 'numpy.uint8'>, 'm8': <type 'numpy.timedelta64'>, 'B': <type 'numpy.uint8'>, 'uint0': <type 'numpy.uint64'>, 'F': <type 'numpy.complex64'>, 'bool_': <type 'numpy.bool_'>, 'uint8': <type 'numpy.uint8'>, 'c8': <type 'numpy.complex64'>, 'Int64': <type 'numpy.int64'>, 'Int8': <type 'numpy.int8'>, 'Complex32': <type 'numpy.complex64'>, 'V': <type 'numpy.void'>, 'int8': <type 'numpy.int8'>, 'uint64': <type 'numpy.uint64'>, 'b': <type 'numpy.int8'>, 'f': <type 'numpy.float32'>, 'double': <type 'numpy.float64'>, 'UInt32': <type 'numpy.uint32'>, 'clongdouble': <type 'numpy.complex256'>, 'str': <type 'numpy.string_'>, 'f16': <type 'numpy.float128'>, 'f2': <type 'numpy.float16'>, 'f4': <type 'numpy.float32'>, 'int32': <type 'numpy.int32'>, 'int': <type 'numpy.int64'>, 'longdouble': <type 'numpy.float128'>, 'Complex128': <type 'numpy.complex256'>, 'single': <type 'numpy.float32'>, 'string': <type 'numpy.string_'>, 'q': <type 'numpy.int64'>, 'Int16': <type 'numpy.int16'>, 'Float64': <type 'numpy.float64'>, 'longcomplex': <type 'numpy.complex256'>, 'UInt16': <type 'numpy.uint16'>, 'bool': <type 'numpy.bool_'>, 'Float32': <type 'numpy.float32'>, 'string0': <type 'numpy.string_'>, 'longlong': <type 'numpy.int64'>, 'i8': <type 'numpy.int64'>, 'int16': <type 'numpy.int16'>, 'str_': <type 'numpy.string_'>, 'I': <type 'numpy.uint32'>, 'object': <type 'numpy.object_'>, 'M': <type 'numpy.datetime64'>, 'i4': <type 'numpy.int32'>, 'singlecomplex': <type 'numpy.complex64'>, 'Q': <type 'numpy.uint64'>, 'string_': <type 'numpy.string_'>, 'U': <type 'numpy.unicode_'>, 'a': <type 'numpy.string_'>, 'short': <type 'numpy.int16'>, 'e': <type 'numpy.float16'>, 'i': <type 'numpy.int32'>, 'clongfloat': <type 'numpy.complex256'>, 'm': <type 'numpy.timedelta64'>, 'Object0': <type 'numpy.object_'>, 'int64': <type 'numpy.int64'>, 'Float128': <type 'numpy.float128'>, 'i2': <type 'numpy.int16'>, 'int0': <type 'numpy.int64'>}, 'NINF': -inf, 'min_scalar_type': <built-in function min_scalar_type>, 'count_nonzero': <function count_nonzero at 0x7f2c2d96ae60>, 'sort_complex': <function sort_complex at 0x7f2c2d56ab18>, 'nested_iters': <built-in function nested_iters>, 'concatenate': <built-in function concatenate>, 'vdot': <built-in function vdot>, 'bincount': <built-in function bincount>, 'transpose': <function transpose at 0x7f2c2d984758>, 'array2string': <function array2string at 0x7f2c2d985ed8>, 'corrcoef': <function corrcoef at 0x7f2c2d562410>, 'fromregex': <function fromregex at 0x7f2c2d094410>, 'vectorize': <class 'numpy.lib.function_base.vectorize'>, 'set_printoptions': <function set_printoptions at 0x7f2c2d985aa0>, 'isrealobj': <function isrealobj at 0x7f2c2d54a6e0>, 'trim_zeros': <function trim_zeros at 0x7f2c2d56ab90>, 'unravel_index': <built-in function unravel_index>, 'cos': <ufunc 'cos'>, 'float64': <type 'numpy.float64'>, 'log1p': <ufunc 'log1p'>, 'ushort': <type 'numpy.uint16'>, 'equal': <ufunc 'equal'>, 'cumprod': <function cumprod at 0x7f2c2d9855f0>, 'float_': <type 'numpy.float64'>, 'vander': <function vander at 0x7f2c2d556cf8>, 'geterrobj': <built-in function geterrobj>, 'load': <function load at 0x7f2c2d0919b0>, 'fromiter': <built-in function fromiter>, 'poly': <function poly at 0x7f2c2d522320>, 'bitwise_or': <ufunc 'bitwise_or'>, 'polynomial': <module 'numpy.polynomial' from '/home/ubuntu/anaconda2/lib/python2.7/site-packages/numpy/polynomial/__init__.pyc'>, 'diff': <function diff at 0x7f2c2d56a938>, 'iterable': <function iterable at 0x7f2c2d56a1b8>, 'array_split': <function array_split at 0x7f2c2d4feb90>, 'get_include': <function get_include at 0x7f2c2d5acc08>, 'pv': <function pv at 0x7f2c2d094de8>, 'tensordot': <function tensordot at 0x7f2c2d9745f0>, 'piecewise': <function piecewise at 0x7f2c2d56a758>, 'invert': <ufunc 'invert'>, 'UFUNC_PYVALS_NAME': 'UFUNC_PYVALS', 'SHIFT_INVALID': 9, 'c_': <numpy.lib.index_tricks.CClass object at 0x7f2c44f41510>, 'flexible': <type 'numpy.flexible'>, 'pi': 3.141592653589793, '__doc__': '\\nNumPy\\n=====\\n\\nProvides\\n  1. An array object of arbitrary homogeneous items\\n  2. Fast mathematical operations over arrays\\n  3. Linear Algebra, Fourier Transforms, Random Number Generation\\n\\nHow to use the documentation\\n----------------------------\\nDocumentation is available in two forms: docstrings provided\\nwith the code, and a loose standing reference guide, available from\\n`the NumPy homepage <http://www.scipy.org>`_.\\n\\nWe recommend exploring the docstrings using\\n`IPython <http://ipython.scipy.org>`_, an advanced Python shell with\\nTAB-completion and introspection capabilities.  See below for further\\ninstructions.\\n\\nThe docstring examples assume that `numpy` has been imported as `np`::\\n\\n  >>> import numpy as np\\n\\nCode snippets are indicated by three greater-than signs::\\n\\n  >>> x = 42\\n  >>> x = x + 1\\n\\nUse the built-in ``help`` function to view a function\\'s docstring::\\n\\n  >>> help(np.sort)\\n  ... # doctest: +SKIP\\n\\nFor some objects, ``np.info(obj)`` may provide additional help.  This is\\nparticularly true if you see the line \"Help on ufunc object:\" at the top\\nof the help() page.  Ufuncs are implemented in C, not Python, for speed.\\nThe native Python help() does not know how to view their help, but our\\nnp.info() function does.\\n\\nTo search for documents containing a keyword, do::\\n\\n  >>> np.lookfor(\\'keyword\\')\\n  ... # doctest: +SKIP\\n\\nGeneral-purpose documents like a glossary and help on the basic concepts\\nof numpy are available under the ``doc`` sub-module::\\n\\n  >>> from numpy import doc\\n  >>> help(doc)\\n  ... # doctest: +SKIP\\n\\nAvailable subpackages\\n---------------------\\ndoc\\n    Topical documentation on broadcasting, indexing, etc.\\nlib\\n    Basic functions used by several sub-packages.\\nrandom\\n    Core Random Tools\\nlinalg\\n    Core Linear Algebra Tools\\nfft\\n    Core FFT routines\\npolynomial\\n    Polynomial tools\\ntesting\\n    NumPy testing tools\\nf2py\\n    Fortran to Python Interface Generator.\\ndistutils\\n    Enhancements to distutils with support for\\n    Fortran compilers support and more.\\n\\nUtilities\\n---------\\ntest\\n    Run numpy unittests\\nshow_config\\n    Show numpy build configuration\\ndual\\n    Overwrite certain functions with high-performance Scipy tools\\nmatlib\\n    Make everything matrices.\\n__version__\\n    NumPy version string\\n\\nViewing documentation using IPython\\n-----------------------------------\\nStart IPython with the NumPy profile (``ipython -p numpy``), which will\\nimport `numpy` under the alias `np`.  Then, use the ``cpaste`` command to\\npaste examples into the shell.  To see which functions are available in\\n`numpy`, type ``np.<TAB>`` (where ``<TAB>`` refers to the TAB key), or use\\n``np.*cos*?<ENTER>`` (where ``<ENTER>`` refers to the ENTER key) to narrow\\ndown the list.  To view the docstring for a function, use\\n``np.cos?<ENTER>`` (to view the docstring) and ``np.cos??<ENTER>`` (to view\\nthe source code).\\n\\nCopies vs. in-place operation\\n-----------------------------\\nMost of the functions in `numpy` return a copy of the array argument\\n(e.g., `np.sort`).  In-place versions of these functions are often\\navailable as array methods, i.e. ``x = np.array([1,2,3]); x.sort()``.\\nExceptions to this rule are documented.\\n\\n', 'empty': <built-in function empty>, 'VisibleDeprecationWarning': <class 'numpy._globals.VisibleDeprecationWarning'>, 'find_common_type': <function find_common_type at 0x7f2c3f5749b0>, 'isposinf': <function isposinf at 0x7f2c2d54a2a8>, 'arcsin': <ufunc 'arcsin'>, 'sctypeNA': {<type 'numpy.float128'>: 'Float128', 'Int32': <type 'numpy.int32'>, 'Complex64': <type 'numpy.complex128'>, <type 'numpy.float64'>: 'Float64', 'c16': 'Complex64', 'D': 'Complex64', 'H': 'UInt16', <type 'numpy.float32'>: 'Float32', 'L': 'UInt64', 'd': 'Float64', <type 'numpy.float16'>: 'Float16', 'h': 'Int16', 'l': 'Int64', 'c32': 'Complex128', <type 'numpy.uint64'>: 'UInt64', 'Timedelta64': <type 'numpy.timedelta64'>, 'b1': 'Bool', <type 'numpy.uint64'>: 'UInt64', 'M8': 'Datetime64', 'String0': <type 'numpy.string_'>, 'I': 'UInt32', <type 'numpy.uint32'>: 'UInt32', '?': 'Bool', 'Void0': <type 'numpy.void'>, 'G': 'Complex128', 'O': 'Object0', 'UInt8': <type 'numpy.uint8'>, 'S': 'String0', <type 'numpy.uint16'>: 'UInt16', 'UInt64': <type 'numpy.uint64'>, 'g': 'Float128', <type 'numpy.uint8'>: 'UInt8', 'Float16': <type 'numpy.float16'>, <type 'numpy.int64'>: 'Int64', 'Bool': <type 'numpy.bool_'>, 'f4': 'Float32', <type 'numpy.int64'>: 'Int64', 'u8': <type 'numpy.uint64'>, 'u4': <type 'numpy.uint32'>, 'Unicode0': <type 'numpy.unicode_'>, 'u1': <type 'numpy.uint8'>, 'u2': <type 'numpy.uint16'>, <type 'numpy.int32'>: 'Int32', 'Datetime64': <type 'numpy.datetime64'>, 'Int8': <type 'numpy.int8'>, 'B': 'UInt8', 'F': 'Complex32', <type 'numpy.int16'>: 'Int16', 'c8': 'Complex32', 'Int64': <type 'numpy.int64'>, 'Complex32': <type 'numpy.complex64'>, 'V': 'Void0', 'e': 'Float16', 'b': 'Int8', 'f': 'Float32', <type 'numpy.int8'>: 'Int8', 'm8': 'Timedelta64', 'f16': 'Float128', 'UInt32': <type 'numpy.uint32'>, 'f2': 'Float16', <type 'numpy.void'>: 'Void0', 'f8': 'Float64', <type 'numpy.object_'>: 'Object0', 'Complex128': <type 'numpy.complex256'>, <type 'numpy.complex256'>: 'Complex128', <type 'numpy.unicode_'>: 'Unicode0', 'q': 'Int64', 'Int16': <type 'numpy.int16'>, 'Float64': <type 'numpy.float64'>, <type 'numpy.complex128'>: 'Complex64', 'UInt16': <type 'numpy.uint16'>, <type 'numpy.complex64'>: 'Complex32', 'Float32': <type 'numpy.float32'>, <type 'numpy.string_'>: 'String0', 'i8': <type 'numpy.int64'>, 'i1': <type 'numpy.int8'>, 'i2': <type 'numpy.int16'>, 'M': 'Datetime64', 'i4': <type 'numpy.int32'>, 'Q': 'UInt64', <type 'numpy.bool_'>: 'Bool', 'U': 'Unicode0', <type 'numpy.timedelta64'>: 'Timedelta64', 'i': 'Int32', 'm': 'Timedelta64', 'Object0': <type 'numpy.object_'>, 'Float128': <type 'numpy.float128'>, <type 'numpy.datetime64'>: 'Datetime64'}, 'imag': <function imag at 0x7f2c2d54a500>, 'sctype2char': <function sctype2char at 0x7f2c2d959f50>, 'singlecomplex': <type 'numpy.complex64'>, 'SHIFT_DIVIDEBYZERO': 0, 'matrixlib': <module 'numpy.matrixlib' from '/home/ubuntu/anaconda2/lib/python2.7/site-packages/numpy/matrixlib/__init__.pyc'>, 'apply_along_axis': <function apply_along_axis at 0x7f2c2d4fe8c0>, 'reciprocal': <ufunc 'reciprocal'>, 'tanh': <ufunc 'tanh'>, 'dstack': <function dstack at 0x7f2c2d4feaa0>, 'cov': <function cov at 0x7f2c2d562140>, 'cast': {<type 'numpy.uint64'>: <function <lambda> at 0x7f2c2d965050>, <type 'numpy.int64'>: <function <lambda> at 0x7f2c2d9650c8>, <type 'numpy.void'>: <function <lambda> at 0x7f2c2d965140>, <type 'numpy.complex256'>: <function <lambda> at 0x7f2c2d9651b8>, <type 'numpy.float128'>: <function <lambda> at 0x7f2c2d965230>, <type 'numpy.uint64'>: <function <lambda> at 0x7f2c2d9652a8>, <type 'numpy.int64'>: <function <lambda> at 0x7f2c2d965320>, <type 'numpy.unicode_'>: <function <lambda> at 0x7f2c2d965398>, <type 'numpy.complex128'>: <function <lambda> at 0x7f2c2d965410>, <type 'numpy.float64'>: <function <lambda> at 0x7f2c2d965488>, <type 'numpy.uint32'>: <function <lambda> at 0x7f2c2d965500>, <type 'numpy.int32'>: <function <lambda> at 0x7f2c2d965578>, <type 'numpy.string_'>: <function <lambda> at 0x7f2c2d9655f0>, <type 'numpy.complex64'>: <function <lambda> at 0x7f2c2d965668>, <type 'numpy.float32'>: <function <lambda> at 0x7f2c2d9656e0>, <type 'numpy.uint16'>: <function <lambda> at 0x7f2c2d965758>, <type 'numpy.int16'>: <function <lambda> at 0x7f2c2d9657d0>, <type 'numpy.bool_'>: <function <lambda> at 0x7f2c2d965848>, <type 'numpy.timedelta64'>: <function <lambda> at 0x7f2c2d9658c0>, <type 'numpy.float16'>: <function <lambda> at 0x7f2c2d965938>, <type 'numpy.uint8'>: <function <lambda> at 0x7f2c2d9659b0>, <type 'numpy.int8'>: <function <lambda> at 0x7f2c2d965a28>, <type 'numpy.object_'>: <function <lambda> at 0x7f2c2d965aa0>, <type 'numpy.datetime64'>: <function <lambda> at 0x7f2c2d965b18>}, 'logspace': <function logspace at 0x7f2c2d5ce398>, 'packbits': <built-in function packbits>, 'issctype': <function issctype at 0x7f2c2d959c08>, 'mgrid': <numpy.lib.index_tricks.nd_grid object at 0x7f2c2d4f1490>, 'longdouble': <type 'numpy.float128'>, 'signbit': <ufunc 'signbit'>, 'dual': <module 'numpy.dual' from '/home/ubuntu/anaconda2/lib/python2.7/site-packages/numpy/dual.pyc'>, 'conj': <ufunc 'conjugate'>, 'asmatrix': <function asmatrix at 0x7f2c2d4f0398>, 'inf': inf, 'flatiter': <type 'numpy.flatiter'>, 'bitwise_xor': <ufunc 'bitwise_xor'>, 'fabs': <ufunc 'fabs'>, 'generic': <type 'numpy.generic'>, 'reshape': <function reshape at 0x7f2c2d984500>, 'NaN': nan, 'cross': <function cross at 0x7f2c2d9748c0>, 'sqrt': <ufunc 'sqrt'>, '__package__': 'numpy', 'longcomplex': <type 'numpy.complex256'>, 'complex': <type 'complex'>, 'pad': <function pad at 0x7f2c2d0a4320>, 'split': <function split at 0x7f2c2d4fec08>, 'floor_divide': <ufunc 'floor_divide'>, '__version__': '1.12.1', 'format_parser': <class numpy.core.records.format_parser at 0x7f2c2d980940>, 'nextafter': <ufunc 'nextafter'>, 'polyval': <function polyval at 0x7f2c2d522578>, 'flipud': <function flipud at 0x7f2c2d5569b0>, 'i0': <function i0 at 0x7f2c2d5627d0>, 'iscomplexobj': <function iscomplexobj at 0x7f2c2d54a668>, 'sys': <module 'sys' (built-in)>, 'mafromtxt': <function mafromtxt at 0x7f2c2d094578>, 'bartlett': <function bartlett at 0x7f2c2d562500>, 'polydiv': <function polydiv at 0x7f2c2d522758>, 'stack': <function stack at 0x7f2c2d5cee60>, 'identity': <function identity at 0x7f2c2d986ed8>, 'safe_eval': <function safe_eval at 0x7f2c2d541410>, 'greater_equal': <ufunc 'greater_equal'>, 'Tester': <class 'numpy.testing.nosetester.NoseTester'>, 'trapz': <function trapz at 0x7f2c2d562c08>, 'PINF': inf, 'object': <type 'object'>, 'recfromtxt': <function recfromtxt at 0x7f2c2d0945f0>, 'oldnumeric': 'removed', 'add_newdocs': <module 'numpy.add_newdocs' from '/home/ubuntu/anaconda2/lib/python2.7/site-packages/numpy/add_newdocs.pyc'>, 'RankWarning': <class 'numpy.lib.polynomial.RankWarning'>, 'ascontiguousarray': <function ascontiguousarray at 0x7f2c2d974050>, 'distutils': <module 'numpy.distutils' from '/home/ubuntu/anaconda2/lib/python2.7/site-packages/numpy/distutils/__init__.pyc'>, 'less': <ufunc 'less'>, 'putmask': <built-in function putmask>, 'UFUNC_BUFSIZE_DEFAULT': 8192, 'unicode': <type 'unicode'>, 'half': <type 'numpy.float16'>, 'NAN': nan, 'absolute_import': _Feature((2, 5, 0, 'alpha', 1), (3, 0, 0, 'alpha', 0), 16384), 'typeDict': {0: <type 'numpy.bool_'>, 1: <type 'numpy.int8'>, 2: <type 'numpy.uint8'>, 3: <type 'numpy.int16'>, 4: <type 'numpy.uint16'>, 5: <type 'numpy.int32'>, 6: <type 'numpy.uint32'>, 7: <type 'numpy.int64'>, 8: <type 'numpy.uint64'>, 9: <type 'numpy.int64'>, 10: <type 'numpy.uint64'>, 11: <type 'numpy.float32'>, 12: <type 'numpy.float64'>, 13: <type 'numpy.float128'>, 14: <type 'numpy.complex64'>, 15: <type 'numpy.complex128'>, 16: <type 'numpy.complex256'>, 17: <type 'numpy.object_'>, 18: <type 'numpy.string_'>, 19: <type 'numpy.unicode_'>, 20: <type 'numpy.void'>, 21: <type 'numpy.datetime64'>, 'unicode': <type 'numpy.unicode_'>, 23: <type 'numpy.float16'>, 'cfloat': <type 'numpy.complex128'>, 'longfloat': <type 'numpy.float128'>, 'Int32': <type 'numpy.int32'>, 'Complex64': <type 'numpy.complex128'>, 'unicode_': <type 'numpy.unicode_'>, 'complex': <type 'numpy.complex128'>, 'timedelta64': <type 'numpy.timedelta64'>, 'uint16': <type 'numpy.uint16'>, 'c16': <type 'numpy.complex128'>, 'float32': <type 'numpy.float32'>, 'complex256': <type 'numpy.complex256'>, 'D': <type 'numpy.complex128'>, 'H': <type 'numpy.uint16'>, 'void': <type 'numpy.void'>, 'unicode0': <type 'numpy.unicode_'>, 'L': <type 'numpy.uint64'>, 'P': <type 'numpy.uint64'>, 'half': <type 'numpy.float16'>, 'void0': <type 'numpy.void'>, 'd': <type 'numpy.float64'>, 'h': <type 'numpy.int16'>, 'l': <type 'numpy.int64'>, 'p': <type 'numpy.int64'>, 'c32': <type 'numpy.complex256'>, 22: <type 'numpy.timedelta64'>, 'Timedelta64': <type 'numpy.timedelta64'>, 'object0': <type 'numpy.object_'>, 'b1': <type 'numpy.bool_'>, 'float128': <type 'numpy.float128'>, 'M8': <type 'numpy.datetime64'>, 'String0': <type 'numpy.string_'>, 'float16': <type 'numpy.float16'>, 'ulonglong': <type 'numpy.uint64'>, 'i1': <type 'numpy.int8'>, 'uint32': <type 'numpy.uint32'>, '?': <type 'numpy.bool_'>, 'Void0': <type 'numpy.void'>, 'complex64': <type 'numpy.complex64'>, 'G': <type 'numpy.complex256'>, 'O': <type 'numpy.object_'>, 'UInt8': <type 'numpy.uint8'>, 'S': <type 'numpy.string_'>, 'byte': <type 'numpy.int8'>, 'UInt64': <type 'numpy.uint64'>, 'g': <type 'numpy.float128'>, 'float64': <type 'numpy.float64'>, 'ushort': <type 'numpy.uint16'>, 'float_': <type 'numpy.float64'>, 'uint': <type 'numpy.uint64'>, 'object_': <type 'numpy.object_'>, 'Float16': <type 'numpy.float16'>, 'complex_': <type 'numpy.complex128'>, 'Unicode0': <type 'numpy.unicode_'>, 'uintp': <type 'numpy.uint64'>, 'intc': <type 'numpy.int32'>, 'csingle': <type 'numpy.complex64'>, 'datetime64': <type 'numpy.datetime64'>, 'float': <type 'numpy.float64'>, 'bool8': <type 'numpy.bool_'>, 'Bool': <type 'numpy.bool_'>, 'intp': <type 'numpy.int64'>, 'uintc': <type 'numpy.uint32'>, 'bytes_': <type 'numpy.string_'>, 'u8': <type 'numpy.uint64'>, 'u4': <type 'numpy.uint32'>, 'int_': <type 'numpy.int64'>, 'cdouble': <type 'numpy.complex128'>, 'u1': <type 'numpy.uint8'>, 'complex128': <type 'numpy.complex128'>, 'u2': <type 'numpy.uint16'>, 'f8': <type 'numpy.float64'>, 'Datetime64': <type 'numpy.datetime64'>, 'ubyte': <type 'numpy.uint8'>, 'm8': <type 'numpy.timedelta64'>, 'B': <type 'numpy.uint8'>, 'uint0': <type 'numpy.uint64'>, 'F': <type 'numpy.complex64'>, 'bool_': <type 'numpy.bool_'>, 'uint8': <type 'numpy.uint8'>, 'c8': <type 'numpy.complex64'>, 'Int64': <type 'numpy.int64'>, 'Int8': <type 'numpy.int8'>, 'Complex32': <type 'numpy.complex64'>, 'V': <type 'numpy.void'>, 'int8': <type 'numpy.int8'>, 'uint64': <type 'numpy.uint64'>, 'b': <type 'numpy.int8'>, 'f': <type 'numpy.float32'>, 'double': <type 'numpy.float64'>, 'UInt32': <type 'numpy.uint32'>, 'clongdouble': <type 'numpy.complex256'>, 'str': <type 'numpy.string_'>, 'f16': <type 'numpy.float128'>, 'f2': <type 'numpy.float16'>, 'f4': <type 'numpy.float32'>, 'int32': <type 'numpy.int32'>, 'int': <type 'numpy.int64'>, 'longdouble': <type 'numpy.float128'>, 'Complex128': <type 'numpy.complex256'>, 'single': <type 'numpy.float32'>, 'string': <type 'numpy.string_'>, 'q': <type 'numpy.int64'>, 'Int16': <type 'numpy.int16'>, 'Float64': <type 'numpy.float64'>, 'longcomplex': <type 'numpy.complex256'>, 'UInt16': <type 'numpy.uint16'>, 'bool': <type 'numpy.bool_'>, 'Float32': <type 'numpy.float32'>, 'string0': <type 'numpy.string_'>, 'longlong': <type 'numpy.int64'>, 'i8': <type 'numpy.int64'>, 'int16': <type 'numpy.int16'>, 'str_': <type 'numpy.string_'>, 'I': <type 'numpy.uint32'>, 'object': <type 'numpy.object_'>, 'M': <type 'numpy.datetime64'>, 'i4': <type 'numpy.int32'>, 'singlecomplex': <type 'numpy.complex64'>, 'Q': <type 'numpy.uint64'>, 'string_': <type 'numpy.string_'>, 'U': <type 'numpy.unicode_'>, 'a': <type 'numpy.string_'>, 'short': <type 'numpy.int16'>, 'e': <type 'numpy.float16'>, 'i': <type 'numpy.int32'>, 'clongfloat': <type 'numpy.complex256'>, 'm': <type 'numpy.timedelta64'>, 'Object0': <type 'numpy.object_'>, 'int64': <type 'numpy.int64'>, 'Float128': <type 'numpy.float128'>, 'i2': <type 'numpy.int16'>, 'int0': <type 'numpy.int64'>}, '__path__': ['/home/ubuntu/anaconda2/lib/python2.7/site-packages/numpy'], 'shape': <function shape at 0x7f2c2d984de8>, '__mkl_version__': '2018', 'setbufsize': <function setbufsize at 0x7f2c2d9872a8>, 'cfloat': <type 'numpy.complex128'>, 'RAISE': 2, 'isscalar': <function isscalar at 0x7f2c2d986c80>, 'character': <type 'numpy.character'>, 'bench': <bound method NoseTester.bench of <numpy.testing.nosetester.NoseTester object at 0x7f2c3c45e950>>, 'source': <function source at 0x7f2c2d541230>, 'add': <ufunc 'add'>, 'uint16': <type 'numpy.uint16'>, 'cbrt': <ufunc 'cbrt'>, 'bool': <type 'bool'>, 'ufunc': <type 'numpy.ufunc'>, 'save': <function save at 0x7f2c2d094050>, 'ravel': <function ravel at 0x7f2c2d984cf8>, 'float32': <type 'numpy.float32'>, 'real': <function real at 0x7f2c2d54a488>, 'int32': <type 'numpy.int32'>, 'tril_indices': <function tril_indices at 0x7f2c2d556e60>, 'around': <function around at 0x7f2c2d9857d0>, 'lexsort': <built-in function lexsort>, 'complex_': <type 'numpy.complex128'>, 'ComplexWarning': <class 'numpy.core.numeric.ComplexWarning'>, 'unicode0': <type 'numpy.unicode_'>, 'ipmt': <function ipmt at 0x7f2c2d094c80>, '_import_tools': <module 'numpy._import_tools' from '/home/ubuntu/anaconda2/lib/python2.7/site-packages/numpy/_import_tools.pyc'>, 'atleast_3d': <function atleast_3d at 0x7f2c2d5cecf8>, 'isneginf': <function isneginf at 0x7f2c2d54a320>, 'integer': <type 'numpy.integer'>, 'unique': <function unique at 0x7f2c2d523668>, 'matlib': <module 'numpy.matlib' from '/home/ubuntu/anaconda2/lib/python2.7/site-packages/numpy/matlib.pyc'>, 'mod': <ufunc 'remainder'>, 'insert': <function insert at 0x7f2c2d562de8>, 'broadcast_to': <function broadcast_to at 0x7f2c2d4f28c0>, 'bitwise_not': <ufunc 'invert'>, 'getbufsize': <function getbufsize at 0x7f2c2d987320>, 'array_equiv': <function array_equiv at 0x7f2c2d987140>, 'arange': <built-in function arange>, 'asarray_chkfinite': <function asarray_chkfinite at 0x7f2c2d56a6e0>, 'in1d': <function in1d at 0x7f2c2d5237d0>, 'interp': <function interp at 0x7f2c2d56a9b0>, 'hypot': <ufunc 'hypot'>, 'logical_and': <ufunc 'logical_and'>, 'get_printoptions': <function get_printoptions at 0x7f2c2d985b90>, 'diagflat': <function diagflat at 0x7f2c2d556b18>, 'float128': <type 'numpy.float128'>, 'nonzero': <function nonzero at 0x7f2c2d984d70>, 'kaiser': <function kaiser at 0x7f2c2d562848>, 'ERR_IGNORE': 0, 'polysub': <function polysub at 0x7f2c2d522668>, 'fromfile': <built-in function fromfile>, 'prod': <function prod at 0x7f2c2d985578>, 'nanmax': <function nanmax at 0x7f2c2d4f7e60>, '_distributor_init': <module 'numpy._distributor_init' from '/home/ubuntu/anaconda2/lib/python2.7/site-packages/numpy/_distributor_init.pyc'>, 'core': <module 'numpy.core' from '/home/ubuntu/anaconda2/lib/python2.7/site-packages/numpy/core/__init__.pyc'>, 'who': <function who at 0x7f2c2d5acf50>, 'seterrobj': <built-in function seterrobj>, 'power': <ufunc 'power'>, '_globals': <module 'numpy._globals' from '/home/ubuntu/anaconda2/lib/python2.7/site-packages/numpy/_globals.pyc'>, 'bytes_': <type 'numpy.string_'>, 'percentile': <function percentile at 0x7f2c2d562b18>, 'FPE_DIVIDEBYZERO': 1, '__name__': 'numpy', 'subtract': <ufunc 'subtract'>, 'print_function': _Feature((2, 6, 0, 'alpha', 2), (3, 0, 0, 'alpha', 0), 65536), 'nanmean': <function nanmean at 0x7f2c2d4fe230>, 'frombuffer': <built-in function frombuffer>, 'iscomplex': <function iscomplex at 0x7f2c2d54a578>, 'add_docstring': <built-in function add_docstring>, 'argsort': <function argsort at 0x7f2c2d984938>, 'fmin': <ufunc 'fmin'>, 'ones_like': <function ones_like at 0x7f2c2d96ac80>, 'is_busday': <built-in function is_busday>, 'arcsinh': <ufunc 'arcsinh'>, 'intc': <type 'numpy.int32'>, 'float': <type 'float'>, 'ndenumerate': <class 'numpy.lib.index_tricks.ndenumerate'>, 'intp': <type 'numpy.int64'>, 'unpackbits': <built-in function unpackbits>, 'Infinity': inf, 'log': <ufunc 'log'>, 'cdouble': <type 'numpy.complex128'>, 'complex128': <type 'numpy.complex128'>, 'long': <type 'long'>, 'round_': <function round_ at 0x7f2c2d985848>, 'broadcast_arrays': <function broadcast_arrays at 0x7f2c2d4f29b0>, 'inner': <built-in function inner>, 'var': <function var at 0x7f2c2d9859b0>, 'sctypes': {'int': [<type 'numpy.int8'>, <type 'numpy.int16'>, <type 'numpy.int32'>, <type 'numpy.int64'>], 'float': [<type 'numpy.float16'>, <type 'numpy.float32'>, <type 'numpy.float64'>, <type 'numpy.float128'>], 'uint': [<type 'numpy.uint8'>, <type 'numpy.uint16'>, <type 'numpy.uint32'>, <type 'numpy.uint64'>], 'complex': [<type 'numpy.complex64'>, <type 'numpy.complex128'>, <type 'numpy.complex256'>], 'others': [<type 'bool'>, <type 'object'>, <type 'str'>, <type 'unicode'>, <type 'numpy.void'>]}, 'log10': <ufunc 'log10'>, 'uintp': <type 'numpy.uint64'>, 'linalg': <module 'numpy.linalg' from '/home/ubuntu/anaconda2/lib/python2.7/site-packages/numpy/linalg/__init__.pyc'>, 'histogram': <function histogram at 0x7f2c2d56a578>, 'issubdtype': <function issubdtype at 0x7f2c2d959de8>, 'maximum_sctype': <function maximum_sctype at 0x7f2c2d959b18>, 'squeeze': <function squeeze at 0x7f2c2d984b90>, 'int8': <type 'numpy.int8'>, 'info': <function info at 0x7f2c2d5411b8>, 'seterr': <function seterr at 0x7f2c2d9871b8>, 'argmin': <function argmin at 0x7f2c2d984a28>, 'genfromtxt': <function genfromtxt at 0x7f2c2d094488>, 'maximum': <ufunc 'maximum'>, 'record': <class 'numpy.record'>, 'obj2sctype': <function obj2sctype at 0x7f2c2d959c80>, 'clongdouble': <type 'numpy.complex256'>, 'euler_gamma': 0.5772156649015329, 'arccosh': <ufunc 'arccosh'>, 'delete': <function delete at 0x7f2c2d562d70>, 'tril': <function tril at 0x7f2c2d556c08>, 'int': <type 'int'>, 'ediff1d': <function ediff1d at 0x7f2c2d5235f0>, 'char': <module 'numpy.core.defchararray' from '/home/ubuntu/anaconda2/lib/python2.7/site-packages/numpy/core/defchararray.pyc'>, 'single': <type 'numpy.float32'>, 'loadtxt': <function loadtxt at 0x7f2c2d0942a8>, 'hsplit': <function hsplit at 0x7f2c2d4fec80>, 'ScalarType': (<type 'int'>, <type 'float'>, <type 'complex'>, <type 'long'>, <type 'bool'>, <type 'str'>, <type 'unicode'>, <type 'buffer'>, <type 'numpy.uint64'>, <type 'numpy.int64'>, <type 'numpy.void'>, <type 'numpy.complex256'>, <type 'numpy.float128'>, <type 'numpy.uint64'>, <type 'numpy.int64'>, <type 'numpy.unicode_'>, <type 'numpy.complex128'>, <type 'numpy.float64'>, <type 'numpy.uint32'>, <type 'numpy.int32'>, <type 'numpy.string_'>, <type 'numpy.complex64'>, <type 'numpy.float32'>, <type 'numpy.uint16'>, <type 'numpy.int16'>, <type 'numpy.bool_'>, <type 'numpy.timedelta64'>, <type 'numpy.float16'>, <type 'numpy.uint8'>, <type 'numpy.int8'>, <type 'numpy.object_'>, <type 'numpy.datetime64'>), 'triu': <function triu at 0x7f2c2d556c80>, 'floating': <type 'numpy.floating'>, 'expand_dims': <function expand_dims at 0x7f2c2d4fe9b0>, 'floor': <ufunc 'floor'>, 'polyadd': <function polyadd at 0x7f2c2d5225f0>, 'nan': nan, 'TooHardError': <class 'numpy.core._internal.TooHardError'>, 'emath': <module 'numpy.lib.scimath' from '/home/ubuntu/anaconda2/lib/python2.7/site-packages/numpy/lib/scimath.pyc'>, 'arctan': <ufunc 'arctan'>, 'bmat': <function bmat at 0x7f2c2d4f2578>, 'isclose': <function isclose at 0x7f2c2d987050>, 'ERR_DEFAULT': 521, 'test': <bound method NoseTester.test of <numpy.testing.nosetester.NoseTester object at 0x7f2c3c45e890>>, 'roll': <function roll at 0x7f2c2d974668>, 'string0': <type 'numpy.string_'>, 'compare_chararrays': <built-in function compare_chararrays>, 'iinfo': <class 'numpy.core.getlimits.iinfo'>, 'real_if_close': <function real_if_close at 0x7f2c2d54a848>, 'repeat': <function repeat at 0x7f2c2d9845f0>, 'nanvar': <function nanvar at 0x7f2c2d4fe5f0>, 'hamming': <function hamming at 0x7f2c2d5625f0>, 'deprecate_with_doc': <function <lambda> at 0x7f2c2d5ace60>, 'ALLOW_THREADS': 1, 'ravel_multi_index': <built-in function ravel_multi_index>, 'string_': <type 'numpy.string_'>, 'isinf': <ufunc 'isinf'>, 'ndarray': <type 'numpy.ndarray'>, 'e': 2.718281828459045, 'ERR_CALL': 3, 'datetime_data': <built-in function datetime_data>, 'clongfloat': <type 'numpy.complex256'>, 'full_like': <function full_like at 0x7f2c2d96ad70>, 'result_type': <built-in function result_type>, 'gradient': <function gradient at 0x7f2c2d56a8c0>, 'base_repr': <function base_repr at 0x7f2c2d986d70>, 'argwhere': <function argwhere at 0x7f2c2d974230>, 'set_string_function': <function set_string_function at 0x7f2c2d986b18>}\n",
      "Predicting batch at /home/ubuntu/data/statefarm/preprocessed//test/batch0\n",
      "10000/10000 [==============================] - 207s 21ms/step\n",
      "Predicting batch at /home/ubuntu/data/statefarm/preprocessed//test/batch1\n",
      "10000/10000 [==============================] - 209s 21ms/step\n",
      "Predicting batch at /home/ubuntu/data/statefarm/preprocessed//test/batch2\n",
      "10000/10000 [==============================] - 209s 21ms/step\n",
      "Predicting batch at /home/ubuntu/data/statefarm/preprocessed//test/batch3\n",
      "10000/10000 [==============================] - 209s 21ms/step\n",
      "Predicting batch at /home/ubuntu/data/statefarm/preprocessed//test/batch4\n",
      "10000/10000 [==============================] - 209s 21ms/step\n",
      "Predicting batch at /home/ubuntu/data/statefarm/preprocessed//test/batch5\n",
      "10000/10000 [==============================] - 209s 21ms/step\n",
      "Predicting batch at /home/ubuntu/data/statefarm/preprocessed//test/batch6\n",
      "10000/10000 [==============================] - 209s 21ms/step\n",
      "Predicting batch at /home/ubuntu/data/statefarm/preprocessed//test/batch7\n",
      "9726/9726 [==============================] - 203s 21ms/step\n",
      "Saved predictions to: /home/ubuntu/data/statefarm/results/v5/preds.dat\n",
      "Saved filenames to: /home/ubuntu/data/statefarm/results/v5/filenames.dat\n"
     ]
    },
    {
     "ename": "NameError",
     "evalue": "global name 'FileLink' is not defined",
     "output_type": "error",
     "traceback": [
      "\u001b[0;31m---------------------------------------------------------------------------\u001b[0m",
      "\u001b[0;31mNameError\u001b[0m                                 Traceback (most recent call last)",
      "\u001b[0;32m<ipython-input-53-7f2510730e62>\u001b[0m in \u001b[0;36m<module>\u001b[0;34m()\u001b[0m\n\u001b[1;32m      1\u001b[0m \u001b[0mreload\u001b[0m\u001b[0;34m(\u001b[0m\u001b[0mcutils\u001b[0m\u001b[0;34m)\u001b[0m\u001b[0;34m\u001b[0m\u001b[0m\n\u001b[0;32m----> 2\u001b[0;31m \u001b[0mprocess_model\u001b[0m\u001b[0;34m(\u001b[0m\u001b[0mfinal_model\u001b[0m\u001b[0;34m,\u001b[0m \u001b[0mopts\u001b[0m\u001b[0;34m,\u001b[0m \u001b[0;34m'v5'\u001b[0m\u001b[0;34m,\u001b[0m \u001b[0msub\u001b[0m\u001b[0;34m=\u001b[0m\u001b[0mTrue\u001b[0m\u001b[0;34m)\u001b[0m\u001b[0;34m\u001b[0m\u001b[0m\n\u001b[0m",
      "\u001b[0;32m/home/ubuntu/nbs/cutils.py\u001b[0m in \u001b[0;36mprocess_model\u001b[0;34m(model, opt, name, sub)\u001b[0m\n\u001b[1;32m    191\u001b[0m         \u001b[0mos\u001b[0m\u001b[0;34m.\u001b[0m\u001b[0mmakedirs\u001b[0m\u001b[0;34m(\u001b[0m\u001b[0miter_path\u001b[0m\u001b[0;34m)\u001b[0m\u001b[0;34m\u001b[0m\u001b[0m\n\u001b[1;32m    192\u001b[0m     \u001b[0mmodel\u001b[0m\u001b[0;34m.\u001b[0m\u001b[0msave_weights\u001b[0m\u001b[0;34m(\u001b[0m\u001b[0miter_path\u001b[0m \u001b[0;34m+\u001b[0m \u001b[0;34m'/temp_custom.h5'\u001b[0m\u001b[0;34m)\u001b[0m\u001b[0;34m\u001b[0m\u001b[0m\n\u001b[0;32m--> 193\u001b[0;31m \u001b[0;34m\u001b[0m\u001b[0m\n\u001b[0m\u001b[1;32m    194\u001b[0m     \u001b[0;32mif\u001b[0m \u001b[0msub\u001b[0m\u001b[0;34m:\u001b[0m \u001b[0mcreate_submission\u001b[0m\u001b[0;34m(\u001b[0m\u001b[0mmodel\u001b[0m\u001b[0;34m,\u001b[0m \u001b[0mopt\u001b[0m\u001b[0;34m,\u001b[0m \u001b[0miter_path\u001b[0m\u001b[0;34m)\u001b[0m\u001b[0;34m\u001b[0m\u001b[0m\n\u001b[1;32m    195\u001b[0m \u001b[0;34m\u001b[0m\u001b[0m\n",
      "\u001b[0;32m/home/ubuntu/nbs/cutils.py\u001b[0m in \u001b[0;36mcreate_submission\u001b[0;34m(model, opt, iter_path)\u001b[0m\n\u001b[1;32m    241\u001b[0m                comments='')\n\u001b[1;32m    242\u001b[0m \u001b[0;34m\u001b[0m\u001b[0m\n\u001b[0;32m--> 243\u001b[0;31m     \u001b[0mFileLink\u001b[0m\u001b[0;34m(\u001b[0m\u001b[0msubmission_file_name\u001b[0m\u001b[0;34m)\u001b[0m\u001b[0;34m\u001b[0m\u001b[0m\n\u001b[0m\u001b[1;32m    244\u001b[0m \u001b[0;34m\u001b[0m\u001b[0m\n\u001b[1;32m    245\u001b[0m \u001b[0;31m# Define a fit method to save on time.\u001b[0m\u001b[0;34m\u001b[0m\u001b[0;34m\u001b[0m\u001b[0m\n",
      "\u001b[0;31mNameError\u001b[0m: global name 'FileLink' is not defined"
     ]
    }
   ],
   "source": [
    "reload(cutils)\n",
    "process_model(final_model, opts, 'v5', sub=True)"
   ]
  },
  {
   "cell_type": "code",
   "execution_count": 54,
   "metadata": {
    "collapsed": false
   },
   "outputs": [
    {
     "data": {
      "text/html": [
       "<a href='submission.csv' target='_blank'>submission.csv</a><br>"
      ],
      "text/plain": [
       "/home/ubuntu/nbs/lesson-3/submission.csv"
      ]
     },
     "execution_count": 54,
     "metadata": {},
     "output_type": "execute_result"
    }
   ],
   "source": [
    "from IPython.display import FileLink\n",
    "\n",
    "FileLink('submission.csv')"
   ]
  },
  {
   "cell_type": "code",
   "execution_count": null,
   "metadata": {
    "collapsed": true
   },
   "outputs": [],
   "source": []
  }
 ],
 "metadata": {
  "anaconda-cloud": {},
  "kernelspec": {
   "display_name": "Python [conda root]",
   "language": "python",
   "name": "conda-root-py"
  },
  "language_info": {
   "codemirror_mode": {
    "name": "ipython",
    "version": 2
   },
   "file_extension": ".py",
   "mimetype": "text/x-python",
   "name": "python",
   "nbconvert_exporter": "python",
   "pygments_lexer": "ipython2",
   "version": "2.7.12"
  }
 },
 "nbformat": 4,
 "nbformat_minor": 1
}
