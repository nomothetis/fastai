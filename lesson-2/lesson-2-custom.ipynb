{
 "cells": [
  {
   "cell_type": "code",
   "execution_count": 1,
   "metadata": {
    "ExecuteTime": {
     "end_time": "2018-01-04T04:56:48.268589Z",
     "start_time": "2018-01-04T04:56:45.430552Z"
    },
    "code_folding": []
   },
   "outputs": [
    {
     "name": "stdout",
     "output_type": "stream",
     "text": [
      "Data root: /Users/alexandros/Development/DL/data/\n"
     ]
    },
    {
     "name": "stderr",
     "output_type": "stream",
     "text": [
      "Using TensorFlow backend.\n"
     ]
    },
    {
     "name": "stdout",
     "output_type": "stream",
     "text": [
      "Options:\n",
      "  Testing directory: /Users/alexandros/Development/DL/data/statefarm/sample/test/\n",
      "  Training directory: /Users/alexandros/Development/DL/data/statefarm/sample/train/\n",
      "  Validation directory: /Users/alexandros/Development/DL/data/statefarm/sample/valid/\n",
      "  Preprocess directory: /Users/alexandros/Development/DL/data/statefarm/sample/preprocessed/\n"
     ]
    }
   ],
   "source": [
    "%matplotlib inline\n",
    "from __future__ import print_function\n",
    "import os,sys\n",
    "notebook_code_root = os.path.dirname(os.getcwd())\n",
    "data_root = os.path.dirname(notebook_code_root) + '/data/'\n",
    "print(\"Data root: %s\" % data_root)\n",
    "sys.path.insert(0,notebook_code_root)\n",
    "\n",
    "import bcolz\n",
    "from keras.preprocessing import image\n",
    "from keras.utils.np_utils import to_categorical\n",
    "import matplotlib.pyplot as plt\n",
    "import math\n",
    "import numpy as np\n",
    "from vgg16 import *\n",
    "\n",
    "def save_array(fname, arr):\n",
    "    c=bcolz.carray(arr, rootdir=fname, mode='w'); c.flush()\n",
    "    \n",
    "def load_array(fname):\n",
    "    return bcolz.open(fname)[:]\n",
    "\n",
    "\n",
    "class NotebookData:\n",
    "    def __init__(self,\n",
    "                 data_dir,\n",
    "                 data='statefarm',\n",
    "                 results_dir='/results/',\n",
    "                 sample_mode=True,\n",
    "                 train=True,\n",
    "                 preprocess=True):\n",
    "        \n",
    "        self.data_root = data_dir + data + '/'\n",
    "        self.sample_root = self.data_root + 'sample/'\n",
    "        self.sample_mode = sample_mode\n",
    "        self.sample_batch_size = 1\n",
    "        self.rdir = results_dir\n",
    "        self.train = train\n",
    "        self.preprocess = preprocess\n",
    "        self.training_data = None\n",
    "        self.validation_data = None\n",
    "        self.training_labels = None\n",
    "        self.validation_labels = None\n",
    "        \n",
    "    def root_dir(self):\n",
    "        return self.sample_root if self.sample_mode else self.data_root\n",
    "    \n",
    "    def test_dir(self):\n",
    "        return self.root_dir() + 'test/'\n",
    "    \n",
    "    def results_dir(self):\n",
    "        return self.root_dir() + self.rdir\n",
    "    \n",
    "    def train_dir(self):\n",
    "        return self.root_dir() + 'train/'\n",
    "\n",
    "    def valid_dir(self):\n",
    "        return self.root_dir() + 'valid/'\n",
    "    \n",
    "    def pproc_dir(self):\n",
    "        return self.root_dir() + 'preprocessed/'\n",
    "    \n",
    "    def batch_size(self, requested_size=8):\n",
    "        return self.sample_batch_size if self.sample_mode else requested_size\n",
    "    \n",
    "    def load_data_and_labels(self):\n",
    "        \"\"\"Loads the batches and labels to the internal state.\n",
    "        \n",
    "           Upon loading, the data is accessible through the\n",
    "           corresponding methods.\n",
    "        \"\"\"\n",
    "        gen = image.ImageDataGenerator()\n",
    "        target_size = (224,224)\n",
    "        if self.preprocess:\n",
    "            print('Preprocessing data...')\n",
    "            if not os.path.isdir(self.pproc_dir()):\n",
    "                os.mkdir(self.pproc_dir())\n",
    "                \n",
    "            batch_arr = []\n",
    "            for ld,segment in [(self.train_dir(), 'train'),\n",
    "                          (self.valid_dir(), 'valid')]:\n",
    "                # TODO(ness): segment = os.basename(ld)\n",
    "                flowgen = gen.flow_from_directory(\n",
    "                    ld,\n",
    "                    target_size=target_size,\n",
    "                    shuffle=False,\n",
    "                    class_mode=None,\n",
    "                    batch_size=1)\n",
    "                # Save the batches using method defined in utils.py\n",
    "                data = np.concatenate([flowgen.next() for i in range(flowgen.n)])\n",
    "                batches_dir = self.pproc_dir() + segment + '-bc'\n",
    "                save_array(batches_dir, data)\n",
    "                \n",
    "                # Save the classes.\n",
    "                cls_dir = self.pproc_dir() + segment + '-cl'\n",
    "                save_array(cls_dir, flowgen.classes)\n",
    "                \n",
    "                batch_arr.append((data, flowgen.classes, flowgen.class_indices))\n",
    "            \n",
    "            # Set the data.\n",
    "            self.training_data = batch_arr[0][0]\n",
    "            self.validation_data = batch_arr[1][0]\n",
    "            \n",
    "            # Classes are zero-indexed and represent a category in\n",
    "            # numerical form. So if the classes are 'dog' and 'cat',\n",
    "            # the possible class values will be 0 and 1.\n",
    "            self.trn_classes = batch_arr[0][1]\n",
    "            self.val_classes = batch_arr[1][1]\n",
    "            \n",
    "            # Labels are the one-hot encoded (i.e. categorical)\n",
    "            # version of the classes. In other words, if there are\n",
    "            # 5 classes and an element belongs to class 2,\n",
    "            # its label will be [0,0,1,0,0] (index 1).\n",
    "            self.training_labels = to_categorical(batch_arr[0][1])\n",
    "            self.validation_labels = to_categorical(batch_arr[1][1])\n",
    "            \n",
    "            # Class indices are dictionaries of the form\n",
    "            # {'category_name': 0, 'category_name_2: 1}. They\n",
    "            # make the mapping between numerical class indices and\n",
    "            # a human-readable category name. They are (should be...)\n",
    "            # the same for validation and training, so only load them\n",
    "            # once, after sanity checking.\n",
    "            self.class_indices = batch_arr[0][2]\n",
    "            print('Done preprocessing.')\n",
    "        else:\n",
    "            print('Loading data...')\n",
    "            # Load the pre-saved data using methods defined in utils.py. See\n",
    "            # preprocessing branch for the meaning of the data.\n",
    "            self.training_data = load_array(self.pproc_dir() + 'train-bc')\n",
    "            self.validation_data = load_array(self.pproc_dir() + 'valid-bc')\n",
    "            self.trn_classes = load_array(self.pproc_dir() + 'train-cl')\n",
    "            self.val_classes = load_array(self.pproc_dir() + 'valid-cl')\n",
    "            self.training_labels = to_categorical(self.trn_classes)\n",
    "            self.validation_labels = to_categorical(self.val_classes)\n",
    "            \n",
    "            # To get the class indices, we create the generator. It's cheap to\n",
    "            # run since it doesn't actually load all the data.\n",
    "            flowgen = gen.flow_from_directory(\n",
    "                self.train_dir(),\n",
    "                target_size=target_size,\n",
    "                shuffle=False,\n",
    "                class_mode=None,\n",
    "                batch_size=1)    \n",
    "            self.class_indices = flowgen.class_indices\n",
    "            print('Done loading.')\n",
    "        \n",
    "    def trn_data(self):\n",
    "        if self.training_data is None:\n",
    "            self.load_data_and_labels()\n",
    "        return self.training_data\n",
    "    \n",
    "    def val_data(self):\n",
    "        if self.validation_data is None:\n",
    "            self.load_data_and_labels()\n",
    "        return self.validation_data\n",
    "    \n",
    "    def trn_labels(self):\n",
    "        if self.training_labels is None:\n",
    "            self.load_data_and_labels()\n",
    "        return self.training_labels\n",
    "    \n",
    "    def val_labels(self):\n",
    "        if self.validation_labels is None:\n",
    "            self.load_data_and_labels()\n",
    "        return self.validation_labels\n",
    "        \n",
    "    def __str__(self):\n",
    "        return ('Options:\\n'\n",
    "            '  Testing directory: {0}\\n'\n",
    "            '  Training directory: {1}\\n'\n",
    "            '  Validation directory: {2}\\n'\n",
    "            '  Preprocess directory: {3}'\n",
    "                .format(self.test_dir(),\n",
    "                        self.train_dir(),\n",
    "                        self.valid_dir(),\n",
    "                        self.pproc_dir()))\n",
    "\n",
    "\n",
    "opts = NotebookData(data_dir=data_root, sample_mode=True, preprocess=True)\n",
    "class_names = [\n",
    "  'safe driving',\n",
    "  'texting - right',\n",
    "  'talking on the phone - right',\n",
    "  'texting - left',\n",
    "  'talking on the phone - left',\n",
    "  'operating the radio',\n",
    "  'drinking',\n",
    "  'reaching behind',\n",
    "  'hair and makeup',\n",
    "  'talking to passenger',\n",
    "]\n",
    "print(opts)"
   ]
  },
  {
   "cell_type": "code",
   "execution_count": 2,
   "metadata": {
    "ExecuteTime": {
     "end_time": "2018-01-04T04:56:52.769191Z",
     "start_time": "2018-01-04T04:56:50.956982Z"
    }
   },
   "outputs": [
    {
     "name": "stdout",
     "output_type": "stream",
     "text": [
      "Preprocessing data...\n",
      "Found 160 images belonging to 10 classes.\n",
      "Found 20 images belonging to 10 classes.\n",
      "Done preprocessing.\n"
     ]
    }
   ],
   "source": [
    "# We have a proper model; we can now create a new batch\n",
    "# generator with the training data and fit it.\n",
    "batch_size = opts.batch_size(8)\n",
    "gen = image.ImageDataGenerator()\n",
    "training_batches = gen.flow(opts.trn_data(),\n",
    "                            opts.trn_labels(),\n",
    "                            batch_size=batch_size,\n",
    "                            shuffle=True)\n",
    "validation_batches = gen.flow(opts.val_data(),\n",
    "                              opts.val_labels(),\n",
    "                              batch_size=batch_size,\n",
    "                              shuffle=False) # False so we always measure\n",
    "                                             # validation the same way. (?)"
   ]
  },
  {
   "cell_type": "code",
   "execution_count": 3,
   "metadata": {
    "ExecuteTime": {
     "end_time": "2018-01-04T04:56:56.410709Z",
     "start_time": "2018-01-04T04:56:56.404447Z"
    },
    "collapsed": true
   },
   "outputs": [],
   "source": [
    "# Define a fit method to save on time.\n",
    "def fit_model(model, tbatches, vbatches, opt, batch_size=8, epochs=5):\n",
    "    bsize = opt.batch_size(batch_size)\n",
    "    tbatches.batch_size = bsize\n",
    "    vbatches.batch_size = bsize\n",
    "    model.fit_generator(tbatches,\n",
    "                        steps_per_epoch=math.ceil(len(opt.trn_labels())/bsize),\n",
    "                        epochs=epochs,\n",
    "                        validation_data=vbatches,\n",
    "                        validation_steps=math.ceil(len(opt.val_labels())/bsize))"
   ]
  },
  {
   "cell_type": "code",
   "execution_count": 4,
   "metadata": {
    "ExecuteTime": {
     "end_time": "2018-01-04T04:59:18.741204Z",
     "start_time": "2018-01-04T04:56:59.396676Z"
    }
   },
   "outputs": [
    {
     "name": "stdout",
     "output_type": "stream",
     "text": [
      "Tuning model compiled. Starting training.\n",
      "Epoch 1/1\n",
      "160/160 [==============================] - 137s 854ms/step - loss: 2.3135 - acc: 0.1000 - val_loss: 2.3028 - val_acc: 0.1000\n"
     ]
    }
   ],
   "source": [
    "# Load the default model.\n",
    "vgg_mod = Vgg16()\n",
    "\n",
    "# Now that the model is loaded, get rid of the top layer;\n",
    "# we want one that has 10 classes, not 1000.\n",
    "vgg_mod.model.layers.pop()\n",
    "for layer in vgg_mod.model.layers:\n",
    "    layer.trainable = False\n",
    "vgg_mod.model.add(Dense(len(list(iter(opts.class_indices))),\n",
    "                        activation='softmax'))\n",
    "vgg_mod.model.layers[-1].trainable = True\n",
    "    \n",
    "# We also need to modify the classes of the model, since\n",
    "# the original model had 1000.\n",
    "classes = list(iter(opts.class_indices))\n",
    "for c in classes:\n",
    "    classes[opts.class_indices[c]] = c\n",
    "    \n",
    "# Finally, we are ready to compile and run.\n",
    "vgg_mod.model.compile(optimizer=Adam(lr=0.001),\n",
    "                      loss='categorical_crossentropy',\n",
    "                      metrics=['accuracy'])\n",
    "print('Tuning model compiled. Starting training.')\n",
    "fit_model(vgg_mod.model,\n",
    "          training_batches,\n",
    "          validation_batches,\n",
    "          opts,\n",
    "          batch_size=64,\n",
    "          epochs=1)\n",
    "\n",
    "# batch_size 32\n",
    "# lr 0.0001\n",
    "# Epoch 1/5 446s 708ms/step - loss: 2.2702 - acc: 0.3011 - val_loss: 2.2284 - val_acc: 0.4955\n",
    "# Epoch 2/5 445s 706ms/step - loss: 2.2088 - acc: 0.4162 - val_loss: 2.1634 - val_acc: 0.5188\n",
    "# Epoch 3/5 446s 709ms/step - loss: 2.1546 - acc: 0.4484 - val_loss: 2.1029 - val_acc: 0.5312\n",
    "# Stopped at 3 because this was waaaay too slow to converge.\n",
    "\n",
    "# batch_size 32\n",
    "# lr 0.001\n",
    "# Epoch 1/5 446s 708ms/step - loss: 2.1414 - acc: 0.3171 - val_loss: 1.9004 - val_acc: 0.4585\n",
    "# Epoch 2/5 445s 706ms/step - loss: 1.8797 - acc: 0.3969 - val_loss: 1.6483 - val_acc: 0.4665\n",
    "# Epoch 3/5 445s 706ms/step - loss: 1.7331 - acc: 0.4138 - val_loss: 1.4862 - val_acc: 0.4946\n",
    "# Epoch 4/5 445s 706ms/step - loss: 1.6395 - acc: 0.4329 - val_loss: 1.3518 - val_acc: 0.5277\n",
    "# Epoch 5/5 444s 705ms/step - loss: 1.5764 - acc: 0.4596 - val_loss: 1.2777 - val_acc: 0.5580\n",
    "\n",
    "# batch_size 32\n",
    "# lr 0.01\n",
    "# INTERRUPTED -- very bad, far too stable loss around 2.30, and unmoved through first epoch.\n",
    "\n",
    "# batch_size 64\n",
    "# lr 0.0001\n",
    "# Epoch 1/5 441s 1s/step - loss: 2.2819 - acc: 0.2531 - val_loss: 2.2575 - val_acc: 0.4281\n",
    "# Epoch 2/5 440s 1s/step - loss: 2.2451 - acc: 0.3873 - val_loss: 2.2185 - val_acc: 0.5000\n",
    "# Epoch 3/5 441s 1s/step - loss: 2.2092 - acc: 0.4650 - val_loss: 2.1770 - val_acc: 0.5665\n",
    "# Epoch 4/5 441s 1s/step - loss: 2.1743 - acc: 0.5153 - val_loss: 2.1378 - val_acc: 0.5875\n",
    "# Epoch 5/5 440s 1s/step - loss: 2.1394 - acc: 0.5436 - val_loss: 2.0995 - val_acc: 0.6071\n",
    "\n",
    "# batch_size 64\n",
    "# lr 0.001\n",
    "# Epoch 1/5 441s 1s/step - loss: 2.1987 - acc: 0.3219 - val_loss: 2.0766 - val_acc: 0.4165\n",
    "# Epoch 2/5 441s 1s/step - loss: 1.9613 - acc: 0.4455 - val_loss: 1.7595 - val_acc: 0.5384\n",
    "# Epoch 3/5 440s 1s/step - loss: 1.7564 - acc: 0.4863 - val_loss: 1.5306 - val_acc: 0.5879\n",
    "# Epoch 4/5 440s 1s/step - loss: 1.6126 - acc: 0.5067 - val_loss: 1.3435 - val_acc: 0.6045\n",
    "# Epoch 5/5 439s 1s/step - loss: 1.5050 - acc: 0.5225 - val_loss: 1.2419 - val_acc: 0.6147\n",
    "\n",
    "# batch_size 64\n",
    "# lr 0.001\n",
    "# Epoch 1/10 439s 1s/step - loss: 2.1936 - acc: 0.2911 - val_loss: 2.0421 - val_acc: 0.3812\n",
    "# Epoch 2/10 437s 1s/step - loss: 1.9871 - acc: 0.3536 - val_loss: 1.8273 - val_acc: 0.3929\n",
    "# Epoch 3/10 438s 1s/step - loss: 1.8525 - acc: 0.3635 - val_loss: 1.6724 - val_acc: 0.4085\n",
    "# Epoch 4/10 437s 1s/step - loss: 1.7709 - acc: 0.3646 - val_loss: 1.5642 - val_acc: 0.4295\n",
    "# Epoch 5/10 437s 1s/step - loss: 1.7274 - acc: 0.3704 - val_loss: 1.4987 - val_acc: 0.4299\n",
    "# Epoch 6/10 438s 1s/step - loss: 1.6781 - acc: 0.3772 - val_loss: 1.4572 - val_acc: 0.4304\n",
    "# Epoch 7/10 437s 1s/step - loss: 1.6556 - acc: 0.3819 - val_loss: 1.4098 - val_acc: 0.4357\n",
    "# Epoch 8/10 438s 1s/step - loss: 1.6403 - acc: 0.3829 - val_loss: 1.3909 - val_acc: 0.4339\n",
    "# Epoch 9/10 439s 1s/step - loss: 1.6133 - acc: 0.3878 - val_loss: 1.3683 - val_acc: 0.4375\n",
    "# Epoch 10/10 438s 1s/step - loss: 1.6191 - acc: 0.3886 - val_loss: 1.3883 - val_acc: 0.4540\n",
    "\n",
    "# batch_size 64 (try 2)\n",
    "# lr 0.001"
   ]
  },
  {
   "cell_type": "code",
   "execution_count": 9,
   "metadata": {
    "ExecuteTime": {
     "end_time": "2018-01-04T05:07:59.867552Z",
     "start_time": "2018-01-04T05:07:48.289522Z"
    }
   },
   "outputs": [
    {
     "name": "stdout",
     "output_type": "stream",
     "text": [
      "Found 16 images belonging to 1 classes.\n",
      "16\n"
     ]
    }
   ],
   "source": [
    "# Save the model and run the tests, to prepare for upload to Kaggle.\n",
    "if not os.path.isdir(opts.results_dir()):\n",
    "    os.mkdir(opts.results_dir())\n",
    "vgg_mod.model.save_weights(opts.results_dir()+\"/temp_custom.h5\")\n",
    "\n",
    "# Load the model and run the tests, to prepare for upload to Kaggle.\n",
    "## vgg_mod.model.load_weights(opts.results_dir+\"/temp_custom.h5\")\n",
    "\n",
    "# Save the results to usable files.\n",
    "filenames = None\n",
    "batches = gen.flow_from_directory(opts.test_dir(),\n",
    "                                  target_size=(224,224),\n",
    "                                  class_mode=None,\n",
    "                                  shuffle=False,\n",
    "                                  batch_size=opts.batch_size(128))\n",
    "print(batches.n)\n",
    "preds = vgg_mod.model.predict_generator(batches, batches.n)\n",
    "filenames = batches.filenames\n",
    "save_array(opts.results_dir() + '/temp_custom_preds.dat', preds)\n",
    "save_array(opts.results_dir() + '/temp_custom_filenames.dat', filenames)\n",
    "\n"
   ]
  },
  {
   "cell_type": "code",
   "execution_count": 16,
   "metadata": {
    "ExecuteTime": {
     "end_time": "2018-01-05T05:34:51.836695Z",
     "start_time": "2018-01-05T05:34:51.827140Z"
    }
   },
   "outputs": [],
   "source": [
    "# Create the response file.\n",
    "file_column = [pth[8:] for pth in filenames]\n",
    "clipped_preds = np.clip(preds, 0.05, 0.95)\n",
    "preds_col = [','.join(['%.2f' % p for p in pred]) for pred in clipped_preds]\n",
    "entries = [','.join([f,p]) for f,p in zip(file_column, preds_col)]\n",
    "entries = np.array(entries)\n",
    "\n",
    "class_names = ['c%d' % i for i in range(10)]\n",
    "title_row = ','.join(['img'] + class_names)\n",
    "\n",
    "submission_file_name = 'submission.csv'\n",
    "np.savetxt(opts.results_dir() + '/' + submission_file_name,\n",
    "            entries,\n",
    "            fmt='%s',\n",
    "            header=title_row,\n",
    "            comments='')"
   ]
  },
  {
   "cell_type": "code",
   "execution_count": null,
   "metadata": {
    "ExecuteTime": {
     "start_time": "2018-01-05T05:34:54.111Z"
    }
   },
   "outputs": [
    {
     "name": "stdout",
     "output_type": "stream",
     "text": [
      "All-dense-layer model compiled. Starting training.\n",
      "Epoch 1/5\n",
      " 13/160 [=>............................] - ETA: 4:28 - loss: 2.2935 - acc: 0.1538"
     ]
    }
   ],
   "source": [
    "# Now that we've finetuned, we want to make every layer trainable\n",
    "# to see if it improves the results.\n",
    "first_dense_idx = [index\n",
    "                   for (index, layer)\n",
    "                   in enumerate(vgg_mod.model.layers)\n",
    "                   if type(layer) is Dense][0]\n",
    "for layer in vgg_mod.model.layers[:first_dense_idx]:\n",
    "    layer.trainable = True\n",
    "    \n",
    "vgg_mod.model.compile(optimizer=Adam(lr=0.001), # Slower convergence rate; we are already close.\n",
    "                      loss='categorical_crossentropy',\n",
    "                      metrics=['accuracy'])\n",
    "print('All-dense-layer model compiled. Starting training.')\n",
    "fit_model(vgg_mod.model,\n",
    "          training_batches,\n",
    "          validation_batches,\n",
    "          opts)"
   ]
  },
  {
   "cell_type": "code",
   "execution_count": null,
   "metadata": {
    "collapsed": true
   },
   "outputs": [],
   "source": []
  }
 ],
 "metadata": {
  "anaconda-cloud": {},
  "kernelspec": {
   "display_name": "Python 2",
   "language": "python",
   "name": "python2"
  },
  "language_info": {
   "codemirror_mode": {
    "name": "ipython",
    "version": 2
   },
   "file_extension": ".py",
   "mimetype": "text/x-python",
   "name": "python",
   "nbconvert_exporter": "python",
   "pygments_lexer": "ipython2",
   "version": "2.7.14"
  }
 },
 "nbformat": 4,
 "nbformat_minor": 1
}
